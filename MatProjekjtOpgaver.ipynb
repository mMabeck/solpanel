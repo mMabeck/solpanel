{
  "cells": [
    {
      "cell_type": "code",
      "execution_count": null,
      "metadata": {
        "id": "bj3ajx-SQhLj"
      },
      "outputs": [],
      "source": [
        "from sympy import *\n",
        "import matplotlib.pyplot as plt\n",
        "import numpy as np\n",
        "init_printing()"
      ]
    },
    {
      "cell_type": "markdown",
      "metadata": {
        "id": "542deq5SQzbZ"
      },
      "source": [
        "# 1."
      ]
    },
    {
      "cell_type": "markdown",
      "metadata": {
        "id": "-DtejeJQQze_"
      },
      "source": [
        "# 2.\n",
        "\n",
        "https://es-media-prod.s3.amazonaws.com/media/components/panels/spec-sheets/Tesla_T400H.pdf\n",
        "\n",
        "\n",
        "Vi har valgt solpanelet Tesla T400H. Solpanelet har dimensionerne 1890x1046x40mm, og en peak power watts på 400W.\n",
        "\n",
        "STC står for Standard Test Conditions, og er lavet til nemt at sammenligne forskellige solpaneler under samme betingelser. De 400W er målt ved 1000 W/m^2, 25°C og spektret AM1.5.\n",
        "\n",
        "\n",
        "Vi har beregnet $\\frac{W_p} {(L \\cdot B)}$ til at være $202 \\frac{W}{m^2}$\n",
        "\n",
        "For at beregne hvor mange kWh og J panelet leverer under $1100\\frac{W}{m^2}$, ganges den målte watt ved $1000\\frac{W}{m^2}$ med 1.1.\n",
        "\n",
        "$400W \\cdot 1.1 \\cdot 60s = 26400J = 0.0073kWh$\n",
        "\n",
        "For at finde energien pr. areal divideres nu med arealet af panelet.\n",
        "\n",
        "$7.3Wh/(1.89m\\cdot 1.046m)=3.693Wh/m^2$\n",
        "\n",
        "\n"
      ]
    },
    {
      "cell_type": "code",
      "execution_count": null,
      "metadata": {
        "colab": {
          "base_uri": "https://localhost:8080/"
        },
        "id": "WZvoVachVhAQ",
        "outputId": "c9d6abaf-ff84-46fd-c947-49ba0cc119ea"
      },
      "outputs": [
        {
          "output_type": "stream",
          "name": "stdout",
          "text": [
            "202.33289831760194\n"
          ]
        }
      ],
      "source": [
        "wpLB = 400/(1.89*1.046)\n",
        "print(wpLB)"
      ]
    },
    {
      "cell_type": "markdown",
      "metadata": {
        "id": "Mehd8m8MQzhn"
      },
      "source": [
        "# 3."
      ]
    },
    {
      "cell_type": "markdown",
      "metadata": {
        "id": "t8Hs4dCEQzkF"
      },
      "source": [
        "# 4."
      ]
    },
    {
      "cell_type": "markdown",
      "metadata": {
        "id": "Ma6J2W5we5mF"
      },
      "source": [
        "Hvis vi forstiller os at fladen har en konstant normal vektor $n_F$ og V er konstant grundet dets vektorer $S_0$ har konstant længde.\n",
        "\n",
        "Herudover kan vi parametisere området $r(\\Gamma)$ ved: $r(u,v) = (u,v,0)$\n",
        "\n",
        "Så kan vi opsætte integralet:\n",
        "$$\\max{\\left(<V\\left(u,v\\right),n_F>,\\ 0\\right)}\\int_{L}{\\int_{B}1\\ dvdu\\cdot A_0}$$"
      ]
    },
    {
      "cell_type": "markdown",
      "metadata": {
        "id": "FqysfOeKMbk8"
      },
      "source": [
        "Ifølge antagelserne, er solpanelet beskrevet ved en flade $\\mathcal{F} = \\pmb{r}(\\Gamma)$, hvor $\\pmb{r} : \\Gamma \\to \\mathbb{R}^3$ er parametriseringen af fladen:\n",
        "\n",
        "$$\n",
        "\\pmb{r}(u, v) =\n",
        "\\begin{bmatrix}\n",
        "u \\\\\n",
        "v \\\\\n",
        "0\n",
        "\\end{bmatrix}\n",
        ", \\quad \\Gamma = [0, L] \\times [0, B]\n",
        "$$\n",
        "\n",
        "Nu kan fladens normalvektor udregnes:\n",
        "\n",
        "$$\n",
        "\\pmb{n}_{\\mathcal{F}}(u, v) = \\pmb{r}_{u}'(u, v) \\times \\pmb{r}_{v}'(u, v) =\n",
        "\\begin{bmatrix}\n",
        "0 \\\\\n",
        "0 \\\\\n",
        "1\n",
        "\\end{bmatrix}\n",
        "$$\n",
        "\n",
        "dernæst findes normen af normalvektoren:\n",
        "\n",
        "$$\n",
        "\\| \\pmb{n}_{\\mathcal{F}}(u, v) \\| = \\sqrt{\\pmb{n}_{\\mathcal{F}}^{T}  \\cdot \\pmb{n}_{\\mathcal{F}}} = 1\n",
        "$$\n",
        "\n",
        "hvorefter enhedsnormalvektoren kan udregnes:\n",
        "\n",
        "$$\n",
        "\\pmb{u}_p = \\frac{\\pmb{n}_{\\mathcal{F}}(u, v)}{\\| \\pmb{n}_{\\mathcal{F}}(u, v) \\|} =\n",
        "\\begin{bmatrix}\n",
        "0 \\\\\n",
        "0 \\\\\n",
        "1\n",
        "\\end{bmatrix}\n",
        "$$\n",
        "\n",
        "Ifølge [Definition 7.5.1](https://01002.compute.dtu.dk/_assets/notesvol2.pdf#page=193) kan nu man opsætte en formel for fluxen gennem fladen $\\mathcal{F}$:\n",
        "\n",
        "$$\n",
        "\\int_{\\mathcal{F}} \\pmb{V} \\cdot \\mathrm{d} \\pmb{S} = \\max \\left\\{ \\int_{\\Gamma} \\langle \\pmb{V}_S(\\pmb{r}(u, v)) \\cdot A_0, \\pmb{u}_{p} \\rangle \\, \\mathrm{d}(u, v), 0 \\right\\}\n",
        "$$\n",
        "\n",
        "Hvis vinklen mellem enhedsnormalvektor af solpanelet, $\\pmb{u}_p$, og solens vektorfelt $\\pmb{V}_S$ er over $\\pi/2$ ($90^\\circ$), så lyser solen på bagsiden af solpanelet. Effekten kan _aldrig_ blive negativ, og dermed gælder det også at fluxen ikke kan blive negativ. I forhold til fluxen betyder dette at indre-produktet mellem $\\pmb{V}$ og $\\pmb{u}_p$ ikke kan være lavere end 0, derfor anvendes $\\max$-funktionen.\n",
        "\n",
        "Da enhedsnormalvektoren, $\\pmb{n}_{\\mathcal{F}}$, er konstant kan man slippe af med integraltegnet, og udtrykke formlen på følgende måde:\n",
        "\n",
        "$$\n",
        "\\int_{\\mathcal{F}} \\pmb{V} \\cdot \\mathrm{d} \\pmb{S} = \\max\\{ \\langle \\pmb{V}_S(\\pmb{r}(u, v)) \\cdot A_0, \\pmb{u}_{p} \\rangle, 0 \\} \\cdot \\int_{0}^{L} \\int_{0}^{B} 1 \\, \\mathrm{d}(u, v)\n",
        "$$"
      ]
    },
    {
      "cell_type": "markdown",
      "metadata": {
        "id": "BfUt0A-bQzoL"
      },
      "source": [
        "# 5.\n",
        "\n",
        "Vinkel (V): Beskriver den vinkel der dannes mellem penelet og jorden. Kan fortolkes som insstalationens hældning ($\\theta$)\n",
        "\n",
        "Panelets Længde (L): Meter (m)\n",
        "\n",
        "Panelets bredde (B): Meter (m)\n",
        "\n",
        "Areal (A0): Koefficient der angiver den egentlige indståling der rammer solpanelet (Enhedsløs)\n",
        "\n",
        "Fluxen: Watt per kvadratmeter (W/m²)\n",
        "\n",
        "Energi: Joule (J)\n",
        "\n",
        "Sammenhængen mellem Joule (J) og Kilowatt-time (kWh):\n",
        "1 kWh = 3.600.000 J"
      ]
    },
    {
      "cell_type": "markdown",
      "metadata": {
        "id": "ahtkUrt8Qzqf"
      },
      "source": [
        "# 6."
      ]
    },
    {
      "cell_type": "markdown",
      "metadata": {
        "id": "LItRYhdpQzs2"
      },
      "source": [
        "# 7. og 8."
      ]
    },
    {
      "cell_type": "code",
      "execution_count": null,
      "metadata": {
        "colab": {
          "base_uri": "https://localhost:8080/",
          "height": 185
        },
        "id": "rpSzrofB7CuP",
        "outputId": "a08414f4-0389-466c-fc04-ad24181ba888"
      },
      "outputs": [
        {
          "output_type": "display_data",
          "data": {
            "text/plain": [
              "'f skifter fra positiv til negativ ved disse indexer: [ 68 225 382 539 696 853]'"
            ],
            "application/vnd.google.colaboratory.intrinsic+json": {
              "type": "string"
            }
          },
          "metadata": {}
        },
        {
          "output_type": "display_data",
          "data": {
            "text/plain": [
              "'Værdier ved disse indexer: [-0.00148232 -0.00458328 -0.0076842  -0.01078505 -0.01388579 -0.0169864 ]'"
            ],
            "application/vnd.google.colaboratory.intrinsic+json": {
              "type": "string"
            }
          },
          "metadata": {}
        },
        {
          "output_type": "stream",
          "name": "stdout",
          "text": [
            "\n"
          ]
        },
        {
          "output_type": "display_data",
          "data": {
            "text/plain": [
              "'f skifter fra negativ til positiv ved disse indexer: [147 304 461 618 775 932]'"
            ],
            "application/vnd.google.colaboratory.intrinsic+json": {
              "type": "string"
            }
          },
          "metadata": {}
        },
        {
          "output_type": "display_data",
          "data": {
            "text/plain": [
              "'Værdier ved disse indexer: [0.02305079 0.02615082 0.02925061 0.03235012 0.03544931 0.03854817]'"
            ],
            "application/vnd.google.colaboratory.intrinsic+json": {
              "type": "string"
            }
          },
          "metadata": {}
        }
      ],
      "source": [
        "t = np.linspace(-20, 20, 1000)\n",
        "f = np.cos(t)\n",
        "\n",
        "def sign_change(f):\n",
        "    a = np.diff(np.sign(f))\n",
        "    neg_sign_idx = np.argwhere(a<0).flatten()+1 # indexes where neg sign change\n",
        "    pos_sign_idx = np.argwhere(a>0).flatten()+1 # indexes where pos sign change\n",
        "\n",
        "    return neg_sign_idx, pos_sign_idx\n",
        "\n",
        "neg_signs, pos_signs = sign_change(f)\n",
        "\n",
        "display(f\"f skifter fra positiv til negativ ved disse indexer: {neg_signs}\")\n",
        "display(f\"Værdier ved disse indexer: {f[neg_signs]}\")\n",
        "print()\n",
        "display(f\"f skifter fra negativ til positiv ved disse indexer: {pos_signs}\")\n",
        "display(f\"Værdier ved disse indexer: {f[pos_signs]}\")\n",
        "\n",
        "# Disse værdier er meget tæt på 0. Vi kan komme endnu tættere på hvis vi tager flere t-værdier."
      ]
    },
    {
      "cell_type": "markdown",
      "metadata": {
        "id": "EpvacLXYQzxQ"
      },
      "source": [
        "# 9."
      ]
    },
    {
      "cell_type": "markdown",
      "metadata": {
        "id": "Va88OvIRQzzX"
      },
      "source": [
        "# 10."
      ]
    },
    {
      "cell_type": "markdown",
      "metadata": {
        "id": "PKCZYjLDCifV"
      },
      "source": [
        "Solen har ikke en fast afstand til jorden, da jorden er i en ellipseformet bane om solen, men den gennemsnitlige afstand til jorden er $149.60 \\cdot 10^6 \\, \\text{km}$ ([kilde](https://www.vildmedrummet.dk/solsystemet/solen/fakta-om-solen/)), derfor fastlægges en radius:\n",
        "\n",
        "$$\n",
        "r_s = 149.60 \\cdot 10^6 \\, \\text{km}\n",
        "$$\n",
        "\n",
        "Nu kan man anvende de sfæriske koordinater fra ([6.78](https://01002.compute.dtu.dk/_assets/notesvol2.pdf#eq%3Aspherical-coordinates)) til at parametrisere solens punkt ($xyz$-koordinat) i rummet vha. $r_s$, $\\theta_s$ og $\\phi_s$:\n",
        "\n",
        "$$\n",
        "\\pmb{s}(r_s, \\theta_s, \\phi_s) =\n",
        "\\begin{bmatrix}\n",
        "r_s \\cdot \\sin(\\theta_s) \\cdot \\cos(\\phi_s) \\\\\n",
        "r_s \\cdot \\sin(\\theta_s) \\cdot \\sin(\\phi_s) \\\\\n",
        "r_s \\cdot \\cos(\\theta_s)\n",
        "\\end{bmatrix}\n",
        ", \\quad (\\theta_s, \\phi_s) \\in [0, \\pi] \\times [0, 2\\pi]\n",
        "$$\n",
        "\n",
        "Da $r_s$ er fastlagt kan ovenstående \"reduceres\" til en funktion af to variable:\n",
        "\n",
        "$$\n",
        "\\pmb{s}(\\theta_s, \\phi_s) =\n",
        "\\begin{bmatrix}\n",
        "149.60 \\cdot 10^6 \\cdot \\sin(\\theta_s) \\cdot \\cos(\\phi_s) \\\\\n",
        "149.60 \\cdot 10^6 \\cdot \\sin(\\theta_s) \\cdot \\sin(\\phi_s) \\\\\n",
        "149.60 \\cdot 10^6 \\cdot \\cos(\\theta_s)\n",
        "\\end{bmatrix}\n",
        ", \\quad (\\theta_s, \\phi_s) \\in [0, \\pi] \\times [0, 2\\pi]\n",
        "$$\n",
        "\n",
        "> Det er muligt at intervallerne skal ændres, da det kan være at man kun skal betragte den i:\n",
        "> - en andendel af sfæren (4/8 af oktanten), dvs. $(\\theta_s, \\phi_s) \\in [0, \\pi/2] \\times [0, 2\\pi]$\n",
        "> - en fjerdedel af sfæren (2/8 af oktanten), dvs. $(\\theta_s, \\phi_s) \\in [0, \\pi/2] \\times [0, \\pi]$"
      ]
    },
    {
      "cell_type": "markdown",
      "metadata": {
        "id": "a2TtGKFBQz1d"
      },
      "source": [
        "# 11."
      ]
    },
    {
      "cell_type": "markdown",
      "metadata": {
        "id": "vx2CGqKbMILa"
      },
      "source": [
        "Note: måske man skal konvertere fra kartesiske til sfæriske koordinater, se evt. [her](https://math.libretexts.org/Courses/Mount_Royal_University/MATH_2200%3A_Calculus_for_Scientists_II/7%3A_Vector_Spaces/5.7%3A_Cylindrical_and_Spherical_Coordinates#MathJax-Span-1339)."
      ]
    },
    {
      "cell_type": "code",
      "execution_count": null,
      "metadata": {
        "colab": {
          "base_uri": "https://localhost:8080/",
          "height": 38
        },
        "id": "v-4d9C_s5G2v",
        "outputId": "d6e46ad3-fc58-4e6c-828e-370c89585632"
      },
      "outputs": [
        {
          "output_type": "execute_result",
          "data": {
            "text/plain": [
              "sin(θₚ)⋅sin(θₛ)⋅cos(φₚ - φₛ) + cos(θₚ)⋅cos(θₛ)"
            ],
            "text/latex": "$\\displaystyle \\sin{\\left(\\theta_{p} \\right)} \\sin{\\left(\\theta_{s} \\right)} \\cos{\\left(\\phi_{p} - \\phi_{s} \\right)} + \\cos{\\left(\\theta_{p} \\right)} \\cos{\\left(\\theta_{s} \\right)}$"
          },
          "metadata": {},
          "execution_count": 4
        }
      ],
      "source": [
        "# Solpanel\n",
        "r_p, theta_p, phi_p = symbols(\"r_p, theta_p, phi_p\")\n",
        "r_p = 1\n",
        "\n",
        "s_p = Matrix([\n",
        "    sin(theta_p) * cos(phi_p),\n",
        "    sin(theta_p) * sin(phi_p),\n",
        "    cos(theta_p)\n",
        "])\n",
        "\n",
        "n_p = simplify(diff(s_p, theta_p).cross(diff(s_p, phi_p)))\n",
        "\n",
        "# Solens placering\n",
        "r_s, theta_s, phi_s = symbols(\"r_s, theta_s, phi_s\")\n",
        "\n",
        "s_s = Matrix([\n",
        "    sin(theta_s) * cos(phi_s),\n",
        "    sin(theta_s) * sin(phi_s),\n",
        "    cos(theta_s)\n",
        "])\n",
        "simplify(s_s.dot(s_p))\n"
      ]
    },
    {
      "cell_type": "markdown",
      "metadata": {
        "id": "YztyivhyNB2a"
      },
      "source": [
        "Bruges parametriseringen af sfæren fra tidligere som en skabelon, kan man netop udtrykke:\n",
        "\n",
        "$$\n",
        "\\begin{align*}\n",
        "\\pmb{n}_p(\\theta_p, \\phi_p)\n",
        "&= \\pmb{s}_{\\theta_p}'(\\theta_p, \\phi_p) \\times \\pmb{s}_{\\phi_p}'(\\theta_p, \\phi_p) \\\\\n",
        "&= \\begin{bmatrix}2 r_{p}^{2} \\sin{\\left(\\theta_{p} \\right)} \\cos{\\left(\\phi_{p} \\right)} \\cos{\\left(\\theta_{p} \\right)}\\\\2 r_{p}^{2} \\sin{\\left(\\phi_{p} \\right)} \\sin{\\left(\\theta_{p} \\right)} \\cos{\\left(\\theta_{p} \\right)}\\\\r_{p}^{2} \\cos{\\left(2 \\theta_{p} \\right)}\\end{bmatrix}\n",
        "\\times\n",
        "\\begin{bmatrix}- r_{p}^{2} \\sin{\\left(\\phi_{p} \\right)} \\sin^{2}{\\left(\\theta_{p} \\right)}\\\\r_{p}^{2} \\sin^{2}{\\left(\\theta_{p} \\right)} \\cos{\\left(\\phi_{p} \\right)}\\\\0\\end{bmatrix} \\\\\n",
        "&= \\begin{bmatrix}r_{p}^{2} \\sin^{2}{\\left(\\theta_{p} \\right)} \\cos{\\left(\\phi_{p} \\right)}\\\\r_{p}^{2} \\sin{\\left(\\phi_{p} \\right)} \\sin^{2}{\\left(\\theta_{p} \\right)}\\\\\\frac{r_{p}^{2} \\sin{\\left(2 \\theta_{p} \\right)}}{2}\\end{bmatrix}\n",
        "\\end{align*}\n",
        "$$\n",
        "\n",
        "hvor $(\\theta_p, \\phi_p) \\in [0, \\pi/2] \\times [0, 2\\pi]$.\n",
        "\n",
        "Normaliseres ovenstående, fås:\n",
        "\n",
        "$$\n",
        "\\begin{align*}\n",
        "\\| \\pmb{n}_p(\\theta_p, \\phi_p) \\|\n",
        "&= \\sqrt{r_{p}^{4} \\sin^{2}{\\left(\\phi_{p} \\right)} \\sin^{4}{\\left(\\theta_{p} \\right)} + r_{p}^{4} \\sin^{4}{\\left(\\theta_{p} \\right)} \\cos^{2}{\\left(\\phi_{p} \\right)} + \\frac{r_{p}^{4} \\sin^{2}{\\left(2 \\theta_{p} \\right)}}{4}}\\\\\n",
        "&= r_{p}^{2} \\left|{\\sin{\\left(\\theta_{p} \\right)}}\\right| \\\\\n",
        "&= r_{p}^{2} {\\sin{\\left(\\theta_{p} \\right)}}\n",
        "\\end{align*}\n",
        "$$\n",
        "\n",
        "Bemærk her at $\\theta_p \\in [0, \\pi/2]$, så $\\sin$-funktionen kan aldrig outputte negative værdier, derfor undlades absolutværdi.\n",
        "\n",
        "Nu kan enhedsnormalvektoren defineres:\n",
        "$$\n",
        "\\pmb{u}_p = \\frac{\\pmb{n}_p(\\theta_p, \\phi_p)}{\\|\\pmb{n}_p(\\theta_p, \\phi_p)\\|}\n",
        "=\n",
        "\\frac{1}{r_{p}^{2} {\\sin{\\left(\\theta_{p} \\right)}}} \\cdot\n",
        "\\begin{bmatrix}r_{p}^{2} \\sin^{2}{\\left(\\theta_{p} \\right)} \\cos{\\left(\\phi_{p} \\right)}\\\\r_{p}^{2} \\sin{\\left(\\phi_{p} \\right)} \\sin^{2}{\\left(\\theta_{p} \\right)}\\\\\\frac{r_{p}^{2} \\sin{\\left(2 \\theta_{p} \\right)}}{2}\\end{bmatrix}\n",
        "=\n",
        "\\begin{bmatrix}\\sin{\\left(\\theta_{p} \\right)} \\cos{\\left(\\phi_{p} \\right)}\\\\\\sin{\\left(\\phi_{p} \\right)} \\sin{\\left(\\theta_{p} \\right)}\\\\\\cos{\\left(\\theta_{p} \\right)}\\end{bmatrix}\n",
        "$$"
      ]
    },
    {
      "cell_type": "markdown",
      "metadata": {
        "id": "AWyEo_SvC7fR"
      },
      "source": [
        "Vi har de følgende 2 vektorer:\n",
        "$$\n",
        "\\pmb{u}_p = \\begin{pmatrix}\n",
        "\\sin(\\theta_p) \\cos(\\phi_p), \\\n",
        "\\sin(\\theta_p) \\sin(\\phi_p), \\\n",
        "\\cos(\\theta_p)\n",
        "\\end{pmatrix}\n",
        "$$\n",
        "\n",
        "$$\n",
        "\\pmb{u}_s = \\begin{pmatrix}\n",
        "\\sin(\\theta_s) \\cos(\\phi_s), \\\n",
        "\\sin(\\theta_s) \\sin(\\phi_s) ,\\\n",
        "\\cos(\\theta_s)\n",
        "\\end{pmatrix}\n",
        "$$\n",
        "\n",
        "Nu findes det indre produkt:\n",
        "\n",
        "$$\n",
        "\\langle \\pmb{u}_s, \\pmb{u}_p \\rangle = \\cos(\\theta_p) \\cos(\\theta_s) + \\sin(\\theta_p) \\sin(\\theta_s) \\cos(\\phi_p - \\phi_s)\n",
        "$$\n",
        "\n",
        "$$\n",
        "⇒ \\cos(\\theta_p) \\cos(\\theta_s) - \\sin(\\theta_p) \\sin(\\theta_s) + \\sin(\\theta_p) \\sin(\\theta_s)+ \\sin(\\theta_p) \\sin(\\theta_s) \\cos(\\phi_p - \\phi_s)\n",
        "$$\n",
        "\n",
        "$$\n",
        "\\Rightarrow \\cos(\\theta_p-\\theta_s) + \\sin(\\theta_p) \\sin(\\theta_s)+ \\sin(\\theta_p) \\sin(\\theta_s) \\cos(\\phi_p - \\phi_s)\n",
        "$$\n",
        "\n",
        "$$\n",
        "\\Rightarrow \\cos(\\theta_p-\\theta_s) + \\sin(\\theta_p)(\\sin(\\theta_s) \\cos(\\phi_p - \\phi_s)-\\sin(\\theta_s))\n",
        "$$\n",
        "\n",
        "Nu har vi udtrykket $\\cos(\\theta_p-\\theta_s)$ og de ønskede 5 trigonomiske funktioner."
      ]
    },
    {
      "cell_type": "markdown",
      "metadata": {
        "id": "j_thkXImGRIM"
      },
      "source": [
        "Vi kan vise at det indre produkt af de to vektorer er mellem -1 og 1 ved at betragte to vektorer $\\mathbf{u}$ og $\\mathbf{v}$ i et tre-dimensionelt vektorrum med længde 1.\n",
        "\n",
        " Det indreproduktet mellem $\\mathbf{u}$ og $\\mathbf{v}$ er givet ved:\n",
        "\n",
        "$ \\langle \\mathbf{u} , \\mathbf{v} \\rangle = |\\mathbf{u}| |\\mathbf{v}| \\cos(\\theta) $\n",
        "\n",
        "Hvor $|\\mathbf{u}|$ og $|\\mathbf{v}|$ er længden af de to vektorer, og $\\theta$ er vinklen mellem dem.\n",
        "\n",
        "Da længden af hver vektor er 1, har vi $|\\mathbf{u}| = |\\mathbf{v}| = 1$.\n",
        "\n",
        "Dette reducerer indreproduktet til:\n",
        "\n",
        "$ \\langle \\mathbf{u} , \\mathbf{v} \\rangle = \\cos(\\theta) $\n",
        "\n",
        "Vi ved, at værdierne af $\\cos(\\theta)$ ligger mellem $-1$ og $1$.\n",
        "\n",
        "Så konklusionen er, at indreproduktet mellem to vektorer med længde 1 i et tre-dimensionelt rum altid vil ligge mellem $-1$ og $1$.\n",
        "\n",
        "\n",
        "Når det indre produkt er negativt betyder det at vinklen mellem de to er over 90 grader hvilket medfører at panelet ikke rammes af nogle sålstråler på dens overflade der kan omdanne ståling til sol."
      ]
    },
    {
      "cell_type": "markdown",
      "metadata": {
        "id": "JuRstNSiQz3y"
      },
      "source": [
        "# 12."
      ]
    },
    {
      "cell_type": "code",
      "execution_count": null,
      "metadata": {
        "colab": {
          "base_uri": "https://localhost:8080/",
          "height": 37
        },
        "id": "47bET9BdBZWW",
        "outputId": "9b455f88-0b49-4872-9990-f3f7196ba0e0"
      },
      "outputs": [
        {
          "output_type": "execute_result",
          "data": {
            "text/plain": [
              "0"
            ],
            "text/latex": "$\\displaystyle 0$"
          },
          "metadata": {},
          "execution_count": 5
        }
      ],
      "source": [
        "#12\n",
        "\n",
        "import numpy as np\n",
        "from sympy import *\n",
        "init_printing()\n",
        "\n",
        "#ns = normalvektor sol\n",
        "#np = normalvektor panel\n",
        "\n",
        "def solar_panel_projection(theta_sol,phi_sol,theta_panel,phi_panel):\n",
        "\n",
        "    theta, phi, r = symbols(\"theta phi r\", real = True)\n",
        "\n",
        "    #r = 149.60e6\n",
        "\n",
        "    #Solens Parameter\n",
        "    sol_parameter = Matrix([r*sin(theta)*cos(phi),r*sin(theta)*sin(phi),r*cos(theta)])\n",
        "\n",
        "    normal_sol = sol_parameter.diff(theta).cross(sol_parameter.diff(phi))\n",
        "\n",
        "    #normal_sol.subs({theta:theta_sol,phi:phi_sol})\n",
        "\n",
        "    #Panelets Parameter\n",
        "    panel_parameter = Matrix([r*sin(theta)*cos(phi),r*sin(theta)*sin(phi),r*cos(theta)])\n",
        "\n",
        "    normal_panel = (panel_parameter).cross(panel_parameter.diff(phi))\n",
        "\n",
        "    #normal_panel.subs({theta:theta_panel,phi:phi_panel})\n",
        "\n",
        "    #Kryds dem\n",
        "    krydset = simplify(normal_sol.dot(normal_panel))\n",
        "\n",
        "    if krydset > 0:\n",
        "      return krydset\n",
        "    return 0\n",
        "\n",
        "theta_sol = 16\n",
        "phi_sol = 1\n",
        "theta_panel = 3\n",
        "phi_panel = 6\n",
        "\n",
        "solar_panel_projection(theta_sol, phi_sol, theta_panel, phi_panel)\n",
        "\n"
      ]
    },
    {
      "cell_type": "code",
      "execution_count": null,
      "metadata": {
        "colab": {
          "base_uri": "https://localhost:8080/",
          "height": 37
        },
        "id": "pwwPuD4C-OC9",
        "outputId": "a2bb1e5d-1419-444b-b62b-71c715c288e0"
      },
      "outputs": [
        {
          "output_type": "execute_result",
          "data": {
            "text/plain": [
              "0.936550812041092"
            ],
            "text/latex": "$\\displaystyle 0.936550812041092$"
          },
          "metadata": {},
          "execution_count": 6
        }
      ],
      "source": [
        "def solar_panel_projection_sp(theta_sol, phi_sol, theta_panel, phi_panel):\n",
        "    theta, phi, r = symbols(\"theta, phi, r\")\n",
        "    theta_s, phi_s, r_s = symbols(\"theta_s, phi_s, r_s\")\n",
        "    theta_p, phi_p, r_p = symbols(\"theta_p, phi_p, r_p\")\n",
        "\n",
        "    # Sfærsike koordinater\n",
        "    s = Matrix([\n",
        "        [r * sin(theta) * cos(phi)],\n",
        "        [r * sin(theta) * sin(phi)],\n",
        "        [r * cos(theta)]\n",
        "    ])\n",
        "\n",
        "    # Parametriseringer\n",
        "    s_s = s.subs({theta: theta_s, phi: phi_s, r: r_s})\n",
        "    p_s = s.subs({theta: theta_p, phi: phi_p, r: r_p})\n",
        "\n",
        "    # Normalvektorer\n",
        "    n_s = diff(s_s, theta_s).cross(diff(s_s, phi_s))\n",
        "    n_p = diff(p_s, theta_p).cross(diff(p_s, phi_p))\n",
        "\n",
        "    # Jacobi-determinant (Lemma 7.1.1)\n",
        "    J_s = (s_s.jacobian([r_s, theta_s, phi_s])).det()\n",
        "    J_p = (p_s.jacobian([r_p, theta_p, phi_p])).det()\n",
        "\n",
        "    # Enhedsnormalvektorer\n",
        "    u_s = (1/J_s * n_s).applyfunc(simplify)\n",
        "    u_p = (1/J_p * n_p).applyfunc(simplify)\n",
        "\n",
        "    # Prikprodukt\n",
        "    dot_ps = (u_s.dot(u_p)).subs({\n",
        "        theta_s: theta_sol,\n",
        "        phi_s: phi_sol,\n",
        "        theta_p: theta_panel,\n",
        "        phi_p: phi_panel\n",
        "    })\n",
        "\n",
        "    return Max(dot_ps.evalf(), 0)\n",
        "\n",
        "#solar_panel_projection_sp(theta_s, phi_s, theta_s, phi_s)\n",
        "solar_panel_projection_sp(theta_sol, phi_sol, theta_panel, phi_panel)"
      ]
    },
    {
      "cell_type": "code",
      "execution_count": null,
      "metadata": {
        "colab": {
          "base_uri": "https://localhost:8080/",
          "height": 393
        },
        "id": "g2HCpzLqH9xH",
        "outputId": "f55ae5fd-267f-4c6f-8bee-94d1ba6d7720"
      },
      "outputs": [
        {
          "output_type": "error",
          "ename": "SympifyError",
          "evalue": "SympifyError: array([0.78539816, 1.57079633, 0.        ])",
          "traceback": [
            "\u001b[0;31m---------------------------------------------------------------------------\u001b[0m",
            "\u001b[0;31mSympifyError\u001b[0m                              Traceback (most recent call last)",
            "\u001b[0;32m<ipython-input-7-8215f1e14147>\u001b[0m in \u001b[0;36m<cell line: 5>\u001b[0;34m()\u001b[0m\n\u001b[1;32m      3\u001b[0m \u001b[0mtheta_panel\u001b[0m \u001b[0;34m=\u001b[0m \u001b[0mnp\u001b[0m\u001b[0;34m.\u001b[0m\u001b[0marray\u001b[0m\u001b[0;34m(\u001b[0m\u001b[0;34m[\u001b[0m\u001b[0;36m0.0\u001b[0m\u001b[0;34m,\u001b[0m \u001b[0mnp\u001b[0m\u001b[0;34m.\u001b[0m\u001b[0mpi\u001b[0m \u001b[0;34m/\u001b[0m \u001b[0;36m2\u001b[0m\u001b[0;34m,\u001b[0m \u001b[0mnp\u001b[0m\u001b[0;34m.\u001b[0m\u001b[0mpi\u001b[0m\u001b[0;34m]\u001b[0m\u001b[0;34m)\u001b[0m\u001b[0;34m\u001b[0m\u001b[0;34m\u001b[0m\u001b[0m\n\u001b[1;32m      4\u001b[0m \u001b[0mphi_panel\u001b[0m \u001b[0;34m=\u001b[0m \u001b[0mnp\u001b[0m\u001b[0;34m.\u001b[0m\u001b[0marray\u001b[0m\u001b[0;34m(\u001b[0m\u001b[0;34m[\u001b[0m\u001b[0mnp\u001b[0m\u001b[0;34m.\u001b[0m\u001b[0mpi\u001b[0m\u001b[0;34m,\u001b[0m \u001b[0;36m0.0\u001b[0m\u001b[0;34m,\u001b[0m \u001b[0;36m0.0\u001b[0m\u001b[0;34m]\u001b[0m\u001b[0;34m)\u001b[0m\u001b[0;34m\u001b[0m\u001b[0;34m\u001b[0m\u001b[0m\n\u001b[0;32m----> 5\u001b[0;31m \u001b[0msolar_panel_projection_sp\u001b[0m\u001b[0;34m(\u001b[0m\u001b[0mtheta_sol\u001b[0m\u001b[0;34m,\u001b[0m\u001b[0mphi_sol\u001b[0m\u001b[0;34m,\u001b[0m\u001b[0mtheta_panel\u001b[0m\u001b[0;34m,\u001b[0m\u001b[0mphi_panel\u001b[0m\u001b[0;34m)\u001b[0m\u001b[0;34m\u001b[0m\u001b[0;34m\u001b[0m\u001b[0m\n\u001b[0m",
            "\u001b[0;32m<ipython-input-6-9b4313c3422a>\u001b[0m in \u001b[0;36msolar_panel_projection_sp\u001b[0;34m(theta_sol, phi_sol, theta_panel, phi_panel)\u001b[0m\n\u001b[1;32m     28\u001b[0m \u001b[0;34m\u001b[0m\u001b[0m\n\u001b[1;32m     29\u001b[0m     \u001b[0;31m# Prikprodukt\u001b[0m\u001b[0;34m\u001b[0m\u001b[0;34m\u001b[0m\u001b[0m\n\u001b[0;32m---> 30\u001b[0;31m     dot_ps = (u_s.dot(u_p)).subs({\n\u001b[0m\u001b[1;32m     31\u001b[0m         \u001b[0mtheta_s\u001b[0m\u001b[0;34m:\u001b[0m \u001b[0mtheta_sol\u001b[0m\u001b[0;34m,\u001b[0m\u001b[0;34m\u001b[0m\u001b[0;34m\u001b[0m\u001b[0m\n\u001b[1;32m     32\u001b[0m         \u001b[0mphi_s\u001b[0m\u001b[0;34m:\u001b[0m \u001b[0mphi_sol\u001b[0m\u001b[0;34m,\u001b[0m\u001b[0;34m\u001b[0m\u001b[0;34m\u001b[0m\u001b[0m\n",
            "\u001b[0;32m/usr/local/lib/python3.10/dist-packages/sympy/core/basic.py\u001b[0m in \u001b[0;36msubs\u001b[0;34m(self, *args, **kwargs)\u001b[0m\n\u001b[1;32m    989\u001b[0m                 \u001b[0;32mreturn\u001b[0m \u001b[0msympify\u001b[0m\u001b[0;34m(\u001b[0m\u001b[0mnew\u001b[0m\u001b[0;34m,\u001b[0m \u001b[0mstrict\u001b[0m\u001b[0;34m=\u001b[0m\u001b[0;32mTrue\u001b[0m\u001b[0;34m)\u001b[0m\u001b[0;34m\u001b[0m\u001b[0;34m\u001b[0m\u001b[0m\n\u001b[1;32m    990\u001b[0m \u001b[0;34m\u001b[0m\u001b[0m\n\u001b[0;32m--> 991\u001b[0;31m         \u001b[0msequence\u001b[0m \u001b[0;34m=\u001b[0m \u001b[0;34m[\u001b[0m\u001b[0;34m(\u001b[0m\u001b[0msympify_old\u001b[0m\u001b[0;34m(\u001b[0m\u001b[0ms1\u001b[0m\u001b[0;34m)\u001b[0m\u001b[0;34m,\u001b[0m \u001b[0msympify_new\u001b[0m\u001b[0;34m(\u001b[0m\u001b[0ms2\u001b[0m\u001b[0;34m)\u001b[0m\u001b[0;34m)\u001b[0m \u001b[0;32mfor\u001b[0m \u001b[0ms1\u001b[0m\u001b[0;34m,\u001b[0m \u001b[0ms2\u001b[0m \u001b[0;32min\u001b[0m \u001b[0msequence\u001b[0m\u001b[0;34m]\u001b[0m\u001b[0;34m\u001b[0m\u001b[0;34m\u001b[0m\u001b[0m\n\u001b[0m\u001b[1;32m    992\u001b[0m \u001b[0;34m\u001b[0m\u001b[0m\n\u001b[1;32m    993\u001b[0m         \u001b[0;31m# skip if there is no change\u001b[0m\u001b[0;34m\u001b[0m\u001b[0;34m\u001b[0m\u001b[0m\n",
            "\u001b[0;32m/usr/local/lib/python3.10/dist-packages/sympy/core/basic.py\u001b[0m in \u001b[0;36m<listcomp>\u001b[0;34m(.0)\u001b[0m\n\u001b[1;32m    989\u001b[0m                 \u001b[0;32mreturn\u001b[0m \u001b[0msympify\u001b[0m\u001b[0;34m(\u001b[0m\u001b[0mnew\u001b[0m\u001b[0;34m,\u001b[0m \u001b[0mstrict\u001b[0m\u001b[0;34m=\u001b[0m\u001b[0;32mTrue\u001b[0m\u001b[0;34m)\u001b[0m\u001b[0;34m\u001b[0m\u001b[0;34m\u001b[0m\u001b[0m\n\u001b[1;32m    990\u001b[0m \u001b[0;34m\u001b[0m\u001b[0m\n\u001b[0;32m--> 991\u001b[0;31m         \u001b[0msequence\u001b[0m \u001b[0;34m=\u001b[0m \u001b[0;34m[\u001b[0m\u001b[0;34m(\u001b[0m\u001b[0msympify_old\u001b[0m\u001b[0;34m(\u001b[0m\u001b[0ms1\u001b[0m\u001b[0;34m)\u001b[0m\u001b[0;34m,\u001b[0m \u001b[0msympify_new\u001b[0m\u001b[0;34m(\u001b[0m\u001b[0ms2\u001b[0m\u001b[0;34m)\u001b[0m\u001b[0;34m)\u001b[0m \u001b[0;32mfor\u001b[0m \u001b[0ms1\u001b[0m\u001b[0;34m,\u001b[0m \u001b[0ms2\u001b[0m \u001b[0;32min\u001b[0m \u001b[0msequence\u001b[0m\u001b[0;34m]\u001b[0m\u001b[0;34m\u001b[0m\u001b[0;34m\u001b[0m\u001b[0m\n\u001b[0m\u001b[1;32m    992\u001b[0m \u001b[0;34m\u001b[0m\u001b[0m\n\u001b[1;32m    993\u001b[0m         \u001b[0;31m# skip if there is no change\u001b[0m\u001b[0;34m\u001b[0m\u001b[0;34m\u001b[0m\u001b[0m\n",
            "\u001b[0;32m/usr/local/lib/python3.10/dist-packages/sympy/core/basic.py\u001b[0m in \u001b[0;36msympify_new\u001b[0;34m(new)\u001b[0m\n\u001b[1;32m    987\u001b[0m                 \u001b[0;32mreturn\u001b[0m \u001b[0msympify\u001b[0m\u001b[0;34m(\u001b[0m\u001b[0mnew\u001b[0m\u001b[0;34m,\u001b[0m \u001b[0mstrict\u001b[0m\u001b[0;34m=\u001b[0m\u001b[0;32mFalse\u001b[0m\u001b[0;34m)\u001b[0m\u001b[0;34m\u001b[0m\u001b[0;34m\u001b[0m\u001b[0m\n\u001b[1;32m    988\u001b[0m             \u001b[0;32melse\u001b[0m\u001b[0;34m:\u001b[0m\u001b[0;34m\u001b[0m\u001b[0;34m\u001b[0m\u001b[0m\n\u001b[0;32m--> 989\u001b[0;31m                 \u001b[0;32mreturn\u001b[0m \u001b[0msympify\u001b[0m\u001b[0;34m(\u001b[0m\u001b[0mnew\u001b[0m\u001b[0;34m,\u001b[0m \u001b[0mstrict\u001b[0m\u001b[0;34m=\u001b[0m\u001b[0;32mTrue\u001b[0m\u001b[0;34m)\u001b[0m\u001b[0;34m\u001b[0m\u001b[0;34m\u001b[0m\u001b[0m\n\u001b[0m\u001b[1;32m    990\u001b[0m \u001b[0;34m\u001b[0m\u001b[0m\n\u001b[1;32m    991\u001b[0m         \u001b[0msequence\u001b[0m \u001b[0;34m=\u001b[0m \u001b[0;34m[\u001b[0m\u001b[0;34m(\u001b[0m\u001b[0msympify_old\u001b[0m\u001b[0;34m(\u001b[0m\u001b[0ms1\u001b[0m\u001b[0;34m)\u001b[0m\u001b[0;34m,\u001b[0m \u001b[0msympify_new\u001b[0m\u001b[0;34m(\u001b[0m\u001b[0ms2\u001b[0m\u001b[0;34m)\u001b[0m\u001b[0;34m)\u001b[0m \u001b[0;32mfor\u001b[0m \u001b[0ms1\u001b[0m\u001b[0;34m,\u001b[0m \u001b[0ms2\u001b[0m \u001b[0;32min\u001b[0m \u001b[0msequence\u001b[0m\u001b[0;34m]\u001b[0m\u001b[0;34m\u001b[0m\u001b[0;34m\u001b[0m\u001b[0m\n",
            "\u001b[0;32m/usr/local/lib/python3.10/dist-packages/sympy/core/sympify.py\u001b[0m in \u001b[0;36msympify\u001b[0;34m(a, locals, convert_xor, strict, rational, evaluate)\u001b[0m\n\u001b[1;32m    447\u001b[0m \u001b[0;34m\u001b[0m\u001b[0m\n\u001b[1;32m    448\u001b[0m     \u001b[0;32mif\u001b[0m \u001b[0mstrict\u001b[0m\u001b[0;34m:\u001b[0m\u001b[0;34m\u001b[0m\u001b[0;34m\u001b[0m\u001b[0m\n\u001b[0;32m--> 449\u001b[0;31m         \u001b[0;32mraise\u001b[0m \u001b[0mSympifyError\u001b[0m\u001b[0;34m(\u001b[0m\u001b[0ma\u001b[0m\u001b[0;34m)\u001b[0m\u001b[0;34m\u001b[0m\u001b[0;34m\u001b[0m\u001b[0m\n\u001b[0m\u001b[1;32m    450\u001b[0m \u001b[0;34m\u001b[0m\u001b[0m\n\u001b[1;32m    451\u001b[0m     \u001b[0;32mif\u001b[0m \u001b[0miterable\u001b[0m\u001b[0;34m(\u001b[0m\u001b[0ma\u001b[0m\u001b[0;34m)\u001b[0m\u001b[0;34m:\u001b[0m\u001b[0;34m\u001b[0m\u001b[0;34m\u001b[0m\u001b[0m\n",
            "\u001b[0;31mSympifyError\u001b[0m: SympifyError: array([0.78539816, 1.57079633, 0.        ])"
          ]
        }
      ],
      "source": [
        "theta_sol = np.array([np.pi / 4, np.pi / 2, 0.0])\n",
        "phi_sol = np.array([np.pi, np.pi / 2, 0.0])\n",
        "theta_panel = np.array([0.0, np.pi / 2, np.pi])\n",
        "phi_panel = np.array([np.pi, 0.0, 0.0])\n",
        "solar_panel_projection_sp(theta_sol,phi_sol,theta_panel,phi_panel)"
      ]
    },
    {
      "cell_type": "markdown",
      "metadata": {
        "id": "DI-mzb0cQz6C"
      },
      "source": [
        "# 13."
      ]
    },
    {
      "cell_type": "markdown",
      "metadata": {
        "id": "IY34XXZNMqoA"
      },
      "source": [
        "I realiteten skal de normaliseres. Der afventes svar på opgave 11. Nedenstående er allerede normaliseret, men der mangler et trin."
      ]
    },
    {
      "cell_type": "code",
      "execution_count": null,
      "metadata": {
        "id": "7cPeCQk5MmnF"
      },
      "outputs": [],
      "source": [
        "def np_dot(v1, v2):\n",
        "    return np.sum(v1 * v2, axis=0)\n",
        "\n",
        "def solar_panel_projection(theta_sol, phi_sol, theta_panel, phi_panel):\n",
        "    #r_s = 149.60 * 10**6 # radius (afstand fra jorden til solen)\n",
        "    r_s = 1\n",
        "\n",
        "    # Enhedsnormalvektor, sol\n",
        "    u_s = np.array([\n",
        "        r_s * np.sin(theta_sol) * np.cos(phi_sol),\n",
        "        r_s * np.sin(theta_sol) * np.sin(phi_sol),\n",
        "        r_s * np.cos(theta_sol)\n",
        "    ])\n",
        "\n",
        "    # Enhedsnormalvektor, panel\n",
        "    u_p = np.array([\n",
        "        np.sin(theta_panel) * np.cos(phi_panel),\n",
        "        np.sin(theta_panel) * np.sin(phi_panel),\n",
        "        np.cos(theta_panel)\n",
        "    ])\n",
        "\n",
        "    return np.maximum(0, np_dot(u_s, u_p))"
      ]
    },
    {
      "cell_type": "markdown",
      "metadata": {
        "id": "0MsY_gxARCv4"
      },
      "source": [
        "# 14."
      ]
    },
    {
      "cell_type": "code",
      "execution_count": null,
      "metadata": {
        "colab": {
          "base_uri": "https://localhost:8080/"
        },
        "id": "J9ymRXySDn2j",
        "outputId": "755335da-589c-4558-f902-8c3e215bb724"
      },
      "outputs": [
        {
          "output_type": "stream",
          "name": "stdout",
          "text": [
            "Collecting pvlib\n",
            "  Downloading pvlib-0.10.4-py3-none-any.whl (29.5 MB)\n",
            "\u001b[2K     \u001b[90m━━━━━━━━━━━━━━━━━━━━━━━━━━━━━━━━━━━━━━━━\u001b[0m \u001b[32m29.5/29.5 MB\u001b[0m \u001b[31m32.1 MB/s\u001b[0m eta \u001b[36m0:00:00\u001b[0m\n",
            "\u001b[?25hRequirement already satisfied: numpy>=1.17.3 in /usr/local/lib/python3.10/dist-packages (from pvlib) (1.25.2)\n",
            "Requirement already satisfied: pandas>=1.3.0 in /usr/local/lib/python3.10/dist-packages (from pvlib) (2.0.3)\n",
            "Requirement already satisfied: pytz in /usr/local/lib/python3.10/dist-packages (from pvlib) (2023.4)\n",
            "Requirement already satisfied: requests in /usr/local/lib/python3.10/dist-packages (from pvlib) (2.31.0)\n",
            "Requirement already satisfied: scipy>=1.5.0 in /usr/local/lib/python3.10/dist-packages (from pvlib) (1.11.4)\n",
            "Requirement already satisfied: h5py in /usr/local/lib/python3.10/dist-packages (from pvlib) (3.9.0)\n",
            "Requirement already satisfied: python-dateutil>=2.8.2 in /usr/local/lib/python3.10/dist-packages (from pandas>=1.3.0->pvlib) (2.8.2)\n",
            "Requirement already satisfied: tzdata>=2022.1 in /usr/local/lib/python3.10/dist-packages (from pandas>=1.3.0->pvlib) (2024.1)\n",
            "Requirement already satisfied: charset-normalizer<4,>=2 in /usr/local/lib/python3.10/dist-packages (from requests->pvlib) (3.3.2)\n",
            "Requirement already satisfied: idna<4,>=2.5 in /usr/local/lib/python3.10/dist-packages (from requests->pvlib) (3.7)\n",
            "Requirement already satisfied: urllib3<3,>=1.21.1 in /usr/local/lib/python3.10/dist-packages (from requests->pvlib) (2.0.7)\n",
            "Requirement already satisfied: certifi>=2017.4.17 in /usr/local/lib/python3.10/dist-packages (from requests->pvlib) (2024.2.2)\n",
            "Requirement already satisfied: six>=1.5 in /usr/local/lib/python3.10/dist-packages (from python-dateutil>=2.8.2->pandas>=1.3.0->pvlib) (1.16.0)\n",
            "Installing collected packages: pvlib\n",
            "Successfully installed pvlib-0.10.4\n"
          ]
        }
      ],
      "source": [
        "%pip install pvlib"
      ]
    },
    {
      "cell_type": "code",
      "execution_count": null,
      "metadata": {
        "colab": {
          "base_uri": "https://localhost:8080/"
        },
        "id": "HXbgxQKdD4ov",
        "outputId": "2169c964-5ff9-4e43-8316-594d0d87f1fa"
      },
      "outputs": [
        {
          "output_type": "execute_result",
          "data": {
            "text/plain": [
              "Location: \n",
              "  name: DTU-101\n",
              "  latitude: 55.786256\n",
              "  longitude: 12.523167\n",
              "  altitude: 40\n",
              "  tz: Europe/Copenhagen"
            ]
          },
          "metadata": {},
          "execution_count": 11
        }
      ],
      "source": [
        "import pvlib\n",
        "import pandas as pd\n",
        "# Byg 101 koordinater\n",
        "lat = 55.786256\n",
        "lon = 12.523167\n",
        "time = \"Europe/Copenhagen\"\n",
        "alt = 40\n",
        "location = pvlib.location.Location(lat,lon,time,alt,\"DTU-101\")\n",
        "location"
      ]
    },
    {
      "cell_type": "markdown",
      "metadata": {
        "id": "EUYCP3UiRCyX"
      },
      "source": [
        "# 15."
      ]
    },
    {
      "cell_type": "code",
      "execution_count": null,
      "metadata": {
        "colab": {
          "base_uri": "https://localhost:8080/",
          "height": 313
        },
        "id": "HtsnhUJaO9xJ",
        "outputId": "b2e7754e-1976-4051-bde3-f7af3cdf91b3"
      },
      "outputs": [
        {
          "output_type": "execute_result",
          "data": {
            "text/plain": [
              "                           apparent_zenith      zenith  apparent_elevation  \\\n",
              "2024-04-01 00:00:00+02:00       117.721237  117.721237          -27.721237   \n",
              "2024-04-01 00:01:00+02:00       117.770744  117.770744          -27.770744   \n",
              "2024-04-01 00:02:00+02:00       117.819617  117.819617          -27.819617   \n",
              "2024-04-01 00:03:00+02:00       117.867853  117.867853          -27.867853   \n",
              "2024-04-01 00:04:00+02:00       117.915451  117.915451          -27.915451   \n",
              "\n",
              "                           elevation     azimuth  equation_of_time  \n",
              "2024-04-01 00:00:00+02:00 -27.721237  339.130628         -3.866396  \n",
              "2024-04-01 00:01:00+02:00 -27.770744  339.406633         -3.866190  \n",
              "2024-04-01 00:02:00+02:00 -27.819617  339.682907         -3.865984  \n",
              "2024-04-01 00:03:00+02:00 -27.867853  339.959447         -3.865777  \n",
              "2024-04-01 00:04:00+02:00 -27.915451  340.236250         -3.865571  "
            ],
            "text/html": [
              "\n",
              "  <div id=\"df-0c7479a6-14a3-4317-90ee-16d171f8f679\" class=\"colab-df-container\">\n",
              "    <div>\n",
              "<style scoped>\n",
              "    .dataframe tbody tr th:only-of-type {\n",
              "        vertical-align: middle;\n",
              "    }\n",
              "\n",
              "    .dataframe tbody tr th {\n",
              "        vertical-align: top;\n",
              "    }\n",
              "\n",
              "    .dataframe thead th {\n",
              "        text-align: right;\n",
              "    }\n",
              "</style>\n",
              "<table border=\"1\" class=\"dataframe\">\n",
              "  <thead>\n",
              "    <tr style=\"text-align: right;\">\n",
              "      <th></th>\n",
              "      <th>apparent_zenith</th>\n",
              "      <th>zenith</th>\n",
              "      <th>apparent_elevation</th>\n",
              "      <th>elevation</th>\n",
              "      <th>azimuth</th>\n",
              "      <th>equation_of_time</th>\n",
              "    </tr>\n",
              "  </thead>\n",
              "  <tbody>\n",
              "    <tr>\n",
              "      <th>2024-04-01 00:00:00+02:00</th>\n",
              "      <td>117.721237</td>\n",
              "      <td>117.721237</td>\n",
              "      <td>-27.721237</td>\n",
              "      <td>-27.721237</td>\n",
              "      <td>339.130628</td>\n",
              "      <td>-3.866396</td>\n",
              "    </tr>\n",
              "    <tr>\n",
              "      <th>2024-04-01 00:01:00+02:00</th>\n",
              "      <td>117.770744</td>\n",
              "      <td>117.770744</td>\n",
              "      <td>-27.770744</td>\n",
              "      <td>-27.770744</td>\n",
              "      <td>339.406633</td>\n",
              "      <td>-3.866190</td>\n",
              "    </tr>\n",
              "    <tr>\n",
              "      <th>2024-04-01 00:02:00+02:00</th>\n",
              "      <td>117.819617</td>\n",
              "      <td>117.819617</td>\n",
              "      <td>-27.819617</td>\n",
              "      <td>-27.819617</td>\n",
              "      <td>339.682907</td>\n",
              "      <td>-3.865984</td>\n",
              "    </tr>\n",
              "    <tr>\n",
              "      <th>2024-04-01 00:03:00+02:00</th>\n",
              "      <td>117.867853</td>\n",
              "      <td>117.867853</td>\n",
              "      <td>-27.867853</td>\n",
              "      <td>-27.867853</td>\n",
              "      <td>339.959447</td>\n",
              "      <td>-3.865777</td>\n",
              "    </tr>\n",
              "    <tr>\n",
              "      <th>2024-04-01 00:04:00+02:00</th>\n",
              "      <td>117.915451</td>\n",
              "      <td>117.915451</td>\n",
              "      <td>-27.915451</td>\n",
              "      <td>-27.915451</td>\n",
              "      <td>340.236250</td>\n",
              "      <td>-3.865571</td>\n",
              "    </tr>\n",
              "  </tbody>\n",
              "</table>\n",
              "</div>\n",
              "    <div class=\"colab-df-buttons\">\n",
              "\n",
              "  <div class=\"colab-df-container\">\n",
              "    <button class=\"colab-df-convert\" onclick=\"convertToInteractive('df-0c7479a6-14a3-4317-90ee-16d171f8f679')\"\n",
              "            title=\"Convert this dataframe to an interactive table.\"\n",
              "            style=\"display:none;\">\n",
              "\n",
              "  <svg xmlns=\"http://www.w3.org/2000/svg\" height=\"24px\" viewBox=\"0 -960 960 960\">\n",
              "    <path d=\"M120-120v-720h720v720H120Zm60-500h600v-160H180v160Zm220 220h160v-160H400v160Zm0 220h160v-160H400v160ZM180-400h160v-160H180v160Zm440 0h160v-160H620v160ZM180-180h160v-160H180v160Zm440 0h160v-160H620v160Z\"/>\n",
              "  </svg>\n",
              "    </button>\n",
              "\n",
              "  <style>\n",
              "    .colab-df-container {\n",
              "      display:flex;\n",
              "      gap: 12px;\n",
              "    }\n",
              "\n",
              "    .colab-df-convert {\n",
              "      background-color: #E8F0FE;\n",
              "      border: none;\n",
              "      border-radius: 50%;\n",
              "      cursor: pointer;\n",
              "      display: none;\n",
              "      fill: #1967D2;\n",
              "      height: 32px;\n",
              "      padding: 0 0 0 0;\n",
              "      width: 32px;\n",
              "    }\n",
              "\n",
              "    .colab-df-convert:hover {\n",
              "      background-color: #E2EBFA;\n",
              "      box-shadow: 0px 1px 2px rgba(60, 64, 67, 0.3), 0px 1px 3px 1px rgba(60, 64, 67, 0.15);\n",
              "      fill: #174EA6;\n",
              "    }\n",
              "\n",
              "    .colab-df-buttons div {\n",
              "      margin-bottom: 4px;\n",
              "    }\n",
              "\n",
              "    [theme=dark] .colab-df-convert {\n",
              "      background-color: #3B4455;\n",
              "      fill: #D2E3FC;\n",
              "    }\n",
              "\n",
              "    [theme=dark] .colab-df-convert:hover {\n",
              "      background-color: #434B5C;\n",
              "      box-shadow: 0px 1px 3px 1px rgba(0, 0, 0, 0.15);\n",
              "      filter: drop-shadow(0px 1px 2px rgba(0, 0, 0, 0.3));\n",
              "      fill: #FFFFFF;\n",
              "    }\n",
              "  </style>\n",
              "\n",
              "    <script>\n",
              "      const buttonEl =\n",
              "        document.querySelector('#df-0c7479a6-14a3-4317-90ee-16d171f8f679 button.colab-df-convert');\n",
              "      buttonEl.style.display =\n",
              "        google.colab.kernel.accessAllowed ? 'block' : 'none';\n",
              "\n",
              "      async function convertToInteractive(key) {\n",
              "        const element = document.querySelector('#df-0c7479a6-14a3-4317-90ee-16d171f8f679');\n",
              "        const dataTable =\n",
              "          await google.colab.kernel.invokeFunction('convertToInteractive',\n",
              "                                                    [key], {});\n",
              "        if (!dataTable) return;\n",
              "\n",
              "        const docLinkHtml = 'Like what you see? Visit the ' +\n",
              "          '<a target=\"_blank\" href=https://colab.research.google.com/notebooks/data_table.ipynb>data table notebook</a>'\n",
              "          + ' to learn more about interactive tables.';\n",
              "        element.innerHTML = '';\n",
              "        dataTable['output_type'] = 'display_data';\n",
              "        await google.colab.output.renderOutput(dataTable, element);\n",
              "        const docLink = document.createElement('div');\n",
              "        docLink.innerHTML = docLinkHtml;\n",
              "        element.appendChild(docLink);\n",
              "      }\n",
              "    </script>\n",
              "  </div>\n",
              "\n",
              "\n",
              "<div id=\"df-a9799840-5bc6-4f54-95ea-f7e1a1775b8d\">\n",
              "  <button class=\"colab-df-quickchart\" onclick=\"quickchart('df-a9799840-5bc6-4f54-95ea-f7e1a1775b8d')\"\n",
              "            title=\"Suggest charts\"\n",
              "            style=\"display:none;\">\n",
              "\n",
              "<svg xmlns=\"http://www.w3.org/2000/svg\" height=\"24px\"viewBox=\"0 0 24 24\"\n",
              "     width=\"24px\">\n",
              "    <g>\n",
              "        <path d=\"M19 3H5c-1.1 0-2 .9-2 2v14c0 1.1.9 2 2 2h14c1.1 0 2-.9 2-2V5c0-1.1-.9-2-2-2zM9 17H7v-7h2v7zm4 0h-2V7h2v10zm4 0h-2v-4h2v4z\"/>\n",
              "    </g>\n",
              "</svg>\n",
              "  </button>\n",
              "\n",
              "<style>\n",
              "  .colab-df-quickchart {\n",
              "      --bg-color: #E8F0FE;\n",
              "      --fill-color: #1967D2;\n",
              "      --hover-bg-color: #E2EBFA;\n",
              "      --hover-fill-color: #174EA6;\n",
              "      --disabled-fill-color: #AAA;\n",
              "      --disabled-bg-color: #DDD;\n",
              "  }\n",
              "\n",
              "  [theme=dark] .colab-df-quickchart {\n",
              "      --bg-color: #3B4455;\n",
              "      --fill-color: #D2E3FC;\n",
              "      --hover-bg-color: #434B5C;\n",
              "      --hover-fill-color: #FFFFFF;\n",
              "      --disabled-bg-color: #3B4455;\n",
              "      --disabled-fill-color: #666;\n",
              "  }\n",
              "\n",
              "  .colab-df-quickchart {\n",
              "    background-color: var(--bg-color);\n",
              "    border: none;\n",
              "    border-radius: 50%;\n",
              "    cursor: pointer;\n",
              "    display: none;\n",
              "    fill: var(--fill-color);\n",
              "    height: 32px;\n",
              "    padding: 0;\n",
              "    width: 32px;\n",
              "  }\n",
              "\n",
              "  .colab-df-quickchart:hover {\n",
              "    background-color: var(--hover-bg-color);\n",
              "    box-shadow: 0 1px 2px rgba(60, 64, 67, 0.3), 0 1px 3px 1px rgba(60, 64, 67, 0.15);\n",
              "    fill: var(--button-hover-fill-color);\n",
              "  }\n",
              "\n",
              "  .colab-df-quickchart-complete:disabled,\n",
              "  .colab-df-quickchart-complete:disabled:hover {\n",
              "    background-color: var(--disabled-bg-color);\n",
              "    fill: var(--disabled-fill-color);\n",
              "    box-shadow: none;\n",
              "  }\n",
              "\n",
              "  .colab-df-spinner {\n",
              "    border: 2px solid var(--fill-color);\n",
              "    border-color: transparent;\n",
              "    border-bottom-color: var(--fill-color);\n",
              "    animation:\n",
              "      spin 1s steps(1) infinite;\n",
              "  }\n",
              "\n",
              "  @keyframes spin {\n",
              "    0% {\n",
              "      border-color: transparent;\n",
              "      border-bottom-color: var(--fill-color);\n",
              "      border-left-color: var(--fill-color);\n",
              "    }\n",
              "    20% {\n",
              "      border-color: transparent;\n",
              "      border-left-color: var(--fill-color);\n",
              "      border-top-color: var(--fill-color);\n",
              "    }\n",
              "    30% {\n",
              "      border-color: transparent;\n",
              "      border-left-color: var(--fill-color);\n",
              "      border-top-color: var(--fill-color);\n",
              "      border-right-color: var(--fill-color);\n",
              "    }\n",
              "    40% {\n",
              "      border-color: transparent;\n",
              "      border-right-color: var(--fill-color);\n",
              "      border-top-color: var(--fill-color);\n",
              "    }\n",
              "    60% {\n",
              "      border-color: transparent;\n",
              "      border-right-color: var(--fill-color);\n",
              "    }\n",
              "    80% {\n",
              "      border-color: transparent;\n",
              "      border-right-color: var(--fill-color);\n",
              "      border-bottom-color: var(--fill-color);\n",
              "    }\n",
              "    90% {\n",
              "      border-color: transparent;\n",
              "      border-bottom-color: var(--fill-color);\n",
              "    }\n",
              "  }\n",
              "</style>\n",
              "\n",
              "  <script>\n",
              "    async function quickchart(key) {\n",
              "      const quickchartButtonEl =\n",
              "        document.querySelector('#' + key + ' button');\n",
              "      quickchartButtonEl.disabled = true;  // To prevent multiple clicks.\n",
              "      quickchartButtonEl.classList.add('colab-df-spinner');\n",
              "      try {\n",
              "        const charts = await google.colab.kernel.invokeFunction(\n",
              "            'suggestCharts', [key], {});\n",
              "      } catch (error) {\n",
              "        console.error('Error during call to suggestCharts:', error);\n",
              "      }\n",
              "      quickchartButtonEl.classList.remove('colab-df-spinner');\n",
              "      quickchartButtonEl.classList.add('colab-df-quickchart-complete');\n",
              "    }\n",
              "    (() => {\n",
              "      let quickchartButtonEl =\n",
              "        document.querySelector('#df-a9799840-5bc6-4f54-95ea-f7e1a1775b8d button');\n",
              "      quickchartButtonEl.style.display =\n",
              "        google.colab.kernel.accessAllowed ? 'block' : 'none';\n",
              "    })();\n",
              "  </script>\n",
              "</div>\n",
              "    </div>\n",
              "  </div>\n"
            ],
            "application/vnd.google.colaboratory.intrinsic+json": {
              "type": "dataframe",
              "variable_name": "solpos",
              "summary": "{\n  \"name\": \"solpos\",\n  \"rows\": 43199,\n  \"fields\": [\n    {\n      \"column\": \"apparent_zenith\",\n      \"properties\": {\n        \"dtype\": \"number\",\n        \"std\": 23.969548700425744,\n        \"min\": 40.773871098404115,\n        \"max\": 119.58135463414338,\n        \"num_unique_values\": 43199,\n        \"samples\": [\n          52.291120443657064,\n          108.81487460943423,\n          45.74905054283568\n        ],\n        \"semantic_type\": \"\",\n        \"description\": \"\"\n      }\n    },\n    {\n      \"column\": \"zenith\",\n      \"properties\": {\n        \"dtype\": \"number\",\n        \"std\": 23.96498801087753,\n        \"min\": 40.788316802750614,\n        \"max\": 119.58135463414338,\n        \"num_unique_values\": 43199,\n        \"samples\": [\n          52.31274971630499,\n          108.81487460943423,\n          45.7662366402826\n        ],\n        \"semantic_type\": \"\",\n        \"description\": \"\"\n      }\n    },\n    {\n      \"column\": \"apparent_elevation\",\n      \"properties\": {\n        \"dtype\": \"number\",\n        \"std\": 23.969548700425744,\n        \"min\": -29.581354634143384,\n        \"max\": 49.226128901595885,\n        \"num_unique_values\": 43199,\n        \"samples\": [\n          37.708879556342936,\n          -18.814874609434224,\n          44.25094945716432\n        ],\n        \"semantic_type\": \"\",\n        \"description\": \"\"\n      }\n    },\n    {\n      \"column\": \"elevation\",\n      \"properties\": {\n        \"dtype\": \"number\",\n        \"std\": 23.96498801087753,\n        \"min\": -29.581354634143384,\n        \"max\": 49.211683197249386,\n        \"num_unique_values\": 43199,\n        \"samples\": [\n          37.68725028369501,\n          -18.814874609434224,\n          44.2337633597174\n        ],\n        \"semantic_type\": \"\",\n        \"description\": \"\"\n      }\n    },\n    {\n      \"column\": \"azimuth\",\n      \"properties\": {\n        \"dtype\": \"number\",\n        \"std\": 106.04563483255862,\n        \"min\": 0.013125093162784651,\n        \"max\": 359.99109687604516,\n        \"num_unique_values\": 43199,\n        \"samples\": [\n          198.82650125107898,\n          34.54902713919137,\n          146.03580482617627\n        ],\n        \"semantic_type\": \"\",\n        \"description\": \"\"\n      }\n    },\n    {\n      \"column\": \"equation_of_time\",\n      \"properties\": {\n        \"dtype\": \"number\",\n        \"std\": 1.9966289207608328,\n        \"min\": -3.8663960073754424,\n        \"max\": 2.907747623488831,\n        \"num_unique_values\": 43199,\n        \"samples\": [\n          -3.6909187925921287,\n          -0.01570691043161787,\n          2.432286846509669\n        ],\n        \"semantic_type\": \"\",\n        \"description\": \"\"\n      }\n    }\n  ]\n}"
            }
          },
          "metadata": {},
          "execution_count": 12
        }
      ],
      "source": [
        "# 15\n",
        "import pandas as pd\n",
        "import pvlib\n",
        "from pvlib.location import Location\n",
        "\n",
        "#Time data\n",
        "tidszone = \"Europe/Copenhagen\"\n",
        "start_dato = \"2024-04-01\"\n",
        "slut_dato = \"2024-04-30\"\n",
        "delta_tid = \"Min\"  # \"Min\", \"H\",\n",
        "\n",
        "# Byg 101 koordinater\n",
        "lat = 55.786256\n",
        "lon = 12.523167\n",
        "time = \"Europe/Copenhagen\"\n",
        "alt = 40\n",
        "location = pvlib.location.Location(lat,lon,time,alt,\"DTU-101\")\n",
        "\n",
        "# Definition of a time range of simulation\n",
        "times = pd.date_range(\n",
        "    start_dato + \" 00:00:00\", slut_dato + \" 23:59:00\", inclusive=\"left\", freq=delta_tid, tz=tidszone\n",
        ")\n",
        "\n",
        "# Estimate Solar Position with the 'Location' object\n",
        "solpos = location.get_solarposition(times)\n",
        "\n",
        "# Visualize the resulting DataFrame\n",
        "solpos.head()"
      ]
    },
    {
      "cell_type": "code",
      "execution_count": null,
      "metadata": {
        "colab": {
          "base_uri": "https://localhost:8080/",
          "height": 235
        },
        "id": "CoOOxCCeOwsT",
        "outputId": "d41b05d6-4d21-43cc-9be8-3e715e638a6b"
      },
      "outputs": [
        {
          "output_type": "display_data",
          "data": {
            "text/plain": [
              "<Figure size 3000x1000 with 2 Axes>"
            ],
            "image/png": "[encoded data removed]"
          },
          "metadata": {}
        }
      ],
      "source": [
        "import numpy as np\n",
        "import sympy as sym\n",
        "import matplotlib.pyplot as plt\n",
        "import matplotlib.dates as mdates\n",
        "import pandas as pd\n",
        "from pvlib.location import Location\n",
        "\n",
        "# 15 plot\n",
        "start_dato_20 = \"2024-04-20\"\n",
        "slut_dato_20 = \"2024-04-21\"\n",
        "delta_tid = \"Min\"  # \"Min\", \"H\",\n",
        "tidszone = \"Europe/Copenhagen\"\n",
        "\n",
        "time_20 = pd.date_range(\n",
        "    start_dato_20 + \" 02:00:00\", slut_dato_20 + \" 02:00:00\", inclusive=\"left\", freq=delta_tid, tz=tidszone\n",
        ")\n",
        "solpos_20 = location.get_solarposition(time_20)\n",
        "\n",
        "fig, (p1, p2) = plt.subplots(1, 2, figsize=(30, 10))\n",
        "#Plot zenith + elevation\n",
        "p1.plot(solpos_20.zenith,color=\"r\")\n",
        "p1.plot(solpos_20.elevation,color=\"g\")\n",
        "p1.set_xlabel(\"Time in hours (- 2)\")\n",
        "p1.set_ylabel(\"Angle in degrees (r) distance in km (g)\")\n",
        "p1.xaxis.set_major_formatter(mdates.DateFormatter(\"%H\"))\n",
        "\n",
        "#Plot azimuth\n",
        "p2.plot(solpos_20.azimuth,color=\"b\")\n",
        "p2.set_xlabel(\"Time in hours (- 2)\")\n",
        "p2.set_ylabel(\"Angle in degrees (b)\")\n",
        "p2.xaxis.set_major_formatter(mdates.DateFormatter(\"%H\"))\n",
        "\n",
        "#fig.show()"
      ]
    },
    {
      "cell_type": "markdown",
      "metadata": {
        "id": "KS1vO_xbRC0n"
      },
      "source": [
        "# 16."
      ]
    },
    {
      "cell_type": "markdown",
      "metadata": {
        "id": "S5PiXEFORC45"
      },
      "source": [
        "# 17."
      ]
    },
    {
      "cell_type": "code",
      "execution_count": null,
      "metadata": {
        "colab": {
          "base_uri": "https://localhost:8080/"
        },
        "id": "Y53xTNlqPW1e",
        "outputId": "879f1223-5fd3-42d4-a334-890e231241e2"
      },
      "outputs": [
        {
          "output_type": "stream",
          "name": "stdout",
          "text": [
            "Solen står op mellem 05:53 og 05:54\n",
            "Solen går ned mellem 20:25 og 20:26\n"
          ]
        }
      ],
      "source": [
        "def sunup_sundown(solpos):\n",
        "  sun_down, sun_up = sign_change(solpos.apparent_elevation)\n",
        "  print(f\"Solen står op mellem {solpos.iloc[sun_up-1].index[0].strftime('%H:%M')} og {solpos.iloc[sun_up].index[0].strftime('%H:%M')}\")\n",
        "  print(f\"Solen går ned mellem {solpos.iloc[sun_down-1].index[0].strftime('%H:%M')} og {solpos.iloc[sun_down].index[0].strftime('%H:%M')}\")\n",
        "\n",
        "\n",
        "sunup_sundown(solpos_20)"
      ]
    },
    {
      "cell_type": "markdown",
      "metadata": {
        "id": "En6HNxNGFrjC"
      },
      "source": [
        "Solen står op 5.51 og går ned 20:27 i Lyngby ifølge DMI.\n",
        "\n",
        "Der er altså nogle minutters forskel, men det er nogenlunde det samme."
      ]
    },
    {
      "cell_type": "markdown",
      "metadata": {
        "id": "3BtDKc1cRC7K"
      },
      "source": [
        "# 18."
      ]
    },
    {
      "cell_type": "code",
      "execution_count": null,
      "metadata": {
        "colab": {
          "base_uri": "https://localhost:8080/",
          "height": 92
        },
        "id": "G1DFAVaxV5Nk",
        "outputId": "bfb2dc0e-000c-4c92-9e95-64c93bab520a"
      },
      "outputs": [
        {
          "output_type": "stream",
          "name": "stdout",
          "text": [
            "Dermed findes der en zenith vinkel på\n"
          ]
        },
        {
          "output_type": "display_data",
          "data": {
            "text/plain": [
              "34.945110739579526"
            ],
            "text/latex": "$\\displaystyle 34.9451107395795$"
          },
          "metadata": {}
        },
        {
          "output_type": "stream",
          "name": "stdout",
          "text": [
            "Som findes ved tidspunktet\n"
          ]
        },
        {
          "output_type": "execute_result",
          "data": {
            "text/plain": [
              "Timestamp('2023-07-19 13:16:00+0200', tz='Europe/Copenhagen')"
            ]
          },
          "metadata": {},
          "execution_count": 15
        }
      ],
      "source": [
        "# 18\n",
        "\n",
        "#Vi vælger at kigge på et interval omkring sommersolhverv, da det ikke er et specifikt tidspunkt, men en specifik hændelse der sker omkring et tidspunkt\n",
        "start_dato_solstice = \"2023-07-19\"\n",
        "slut_dato_solstice = \"2023-07-22\"\n",
        "\n",
        "# Simuler / hent simuleringsdata\n",
        "time_solstice = pd.date_range(\n",
        "    start_dato_solstice + \" 00:00:00\", slut_dato_solstice + \" 23:59:00\", inclusive=\"left\", freq=delta_tid, tz=tidszone\n",
        ")\n",
        "solpos_solstice = location.get_solarposition(time_solstice)\n",
        "\n",
        "#Minimums værdien er zenith er tilsvarende til hvornår solen er højest, dermed er zenith vinklen når den er højest:\n",
        "solhverv_zenith = solpos_solstice['zenith'].min()\n",
        "solhverv_dato = solpos_solstice['zenith'].idxmin()\n",
        "\n",
        "print(f'Dermed findes der en zenith vinkel på')\n",
        "display(solhverv_zenith)\n",
        "print(f'Som findes ved tidspunktet')\n",
        "solpos_solstice['zenith'].idxmin()"
      ]
    },
    {
      "cell_type": "markdown",
      "metadata": {
        "id": "E3DC0fTlRC9a"
      },
      "source": [
        "# 19."
      ]
    },
    {
      "cell_type": "code",
      "execution_count": null,
      "metadata": {
        "id": "j7YidfaUFA_b"
      },
      "outputs": [],
      "source": [
        "def sun_max_point(date, coordinates:tuple):\n",
        "\n",
        "    # Tjek om der er længdegrad med\n",
        "    if type(coordinates) is tuple:\n",
        "        lat, lon = coordinates\n",
        "    else:\n",
        "        lat = coordinates\n",
        "        lon = 0\n",
        "\n",
        "    time_zone = \"Europe/Copenhagen\"\n",
        "    delta_tid = \"Min\"\n",
        "\n",
        "    site = Location(lat, lon, time_zone)\n",
        "\n",
        "    # Definition af tidspunkter\n",
        "    times = pd.date_range(\n",
        "        date + \" 00:00:00\", date + \" 23:59:00\", inclusive=\"left\", freq=delta_tid, tz=time_zone\n",
        "    )\n",
        "\n",
        "    # Estimer solposition med Location-objektet\n",
        "    solpos = site.get_solarposition(times)\n",
        "\n",
        "    # Find tidspunktet og værdien for højeste elevationsvinkel\n",
        "    elev_max_idx = solpos['elevation'].idxmax()\n",
        "    alpha_max = solpos['elevation'].max()\n",
        "    max_time = elev_max_idx.strftime(\"%H:%M:%S\")\n",
        "\n",
        "    return alpha_max, max_time"
      ]
    },
    {
      "cell_type": "markdown",
      "metadata": {
        "id": "YRGq042tRDBu"
      },
      "source": [
        "# 20."
      ]
    },
    {
      "cell_type": "code",
      "execution_count": null,
      "metadata": {
        "id": "F4vD6iVHX-aC"
      },
      "outputs": [],
      "source": [
        "def sun_xyz(zenith,azimut):\n",
        "  r = 149.6e6\n",
        "  rad_z = np.deg2rad(zenith)\n",
        "  rad_a = np.deg2rad(azimut)\n",
        "  matrix_list = []\n",
        "  for z,a in zip(rad_z,rad_a):\n",
        "    matrix_list.append(Matrix([r*sin(z*cos(a)),r*sin(z)*sin(a),r*cos(z)]))\n",
        "  return matrix_list\n",
        "\n",
        "#sun_xyz(solpos_20.zenith.to_numpy(),solpos_20.azimuth.to_numpy())"
      ]
    },
    {
      "cell_type": "code",
      "execution_count": null,
      "metadata": {
        "id": "Aj5zX7DmPmSX"
      },
      "outputs": [],
      "source": []
    },
    {
      "cell_type": "markdown",
      "metadata": {
        "id": "c-adLSC6RDGE"
      },
      "source": [
        "# 21."
      ]
    },
    {
      "cell_type": "code",
      "execution_count": null,
      "metadata": {
        "id": "dsBazc7ypN-H"
      },
      "outputs": [],
      "source": [
        "def xyz2zenazi(x,y,z):\n",
        "    #r = pvlib.solarposition.nrel_earthsun_distance(times) * 149597870700 # Mest nøjagtige radius, til gengæld er det tidsbestemt\n",
        "    r = 149.60 * 10**6\n",
        "    azi = np.arctan2(y, x)\n",
        "    azi = (azi + 2 * np.pi) % (2 * np.pi)\n",
        "    zen = np.arccos(z / r)\n",
        "\n",
        "    return np.rad2deg(zen), np.rad2deg(azi)"
      ]
    },
    {
      "cell_type": "markdown",
      "metadata": {
        "id": "F1GOlG-tRDIR"
      },
      "source": [
        "# 22."
      ]
    },
    {
      "cell_type": "markdown",
      "metadata": {
        "id": "EVWTsR9AWo65"
      },
      "source": []
    },
    {
      "cell_type": "markdown",
      "metadata": {
        "id": "qriz86DFWpw8"
      },
      "source": []
    },
    {
      "cell_type": "code",
      "execution_count": null,
      "metadata": {
        "id": "1p6XF_d4kk1F"
      },
      "outputs": [],
      "source": [
        "def find_flux(solpos,theta_p,phi_p):\n",
        "  flux_list = []\n",
        "  for z,a in zip(solpos[\"zenith\"],solpos[\"azimuth\"]):\n",
        "    if z > 90:\n",
        "      flux_list.append(0)\n",
        "    else:\n",
        "      flux_list.append(solar_panel_projection(np.deg2rad(z),np.deg2rad(a),np.deg2rad(theta_p),np.deg2rad(phi_p)))\n",
        "  return flux_list"
      ]
    },
    {
      "cell_type": "markdown",
      "metadata": {
        "id": "JC4IL3AdRDKg"
      },
      "source": [
        "# 23."
      ]
    },
    {
      "cell_type": "code",
      "source": [
        "from scipy import integrate\n",
        "A_0 = 0.5\n",
        "S_0 = 1100\n",
        "W_peak = 400\n",
        "L = 1.89\n",
        "B = 1.046 # 12 paneler med disse dimensioner\n",
        "I_peak = W_peak / (L * B)\n",
        "n_p = 12\n",
        "\n",
        "dx = 60\n",
        "deg_list =[]\n",
        "kWh_list =[]\n",
        "for deg in range(1,90+1):\n",
        "  flux = find_flux(solpos_20,deg,180)\n",
        "  integrate_value = integrate.simps(flux,dx=dx)*I_peak*A_0 # joules\n",
        "  integrate_value = integrate_value/(3600 * 1000) # kWh\n",
        "  print(f\"kWh produceret ved {deg}°: {round(integrate_value,2)}\")\n",
        "  deg_list.append(deg)\n",
        "  kWh_list.append(integrate_value)\n",
        "\n",
        "\n",
        "#plot\n",
        "plt.plot(deg_list, kWh_list, marker='o', linestyle='-')\n",
        "\n",
        "# Adding labels and title\n",
        "plt.xlabel('Theta_panel')\n",
        "plt.ylabel('Daily Energy Production 4/20')\n",
        "plt.title('Energy Production by angle')\n",
        "\n",
        "# Display the plot\n",
        "plt.grid(True)\n",
        "plt.show()"
      ],
      "metadata": {
        "colab": {
          "base_uri": "https://localhost:8080/",
          "height": 216
        },
        "id": "KUc07_YVnkp8",
        "outputId": "48b75f9e-f37c-4aaa-b2d3-b5571aa570c4"
      },
      "execution_count": null,
      "outputs": [
        {
          "output_type": "error",
          "ename": "NameError",
          "evalue": "name 'find_flux' is not defined",
          "traceback": [
            "\u001b[0;31m---------------------------------------------------------------------------\u001b[0m",
            "\u001b[0;31mNameError\u001b[0m                                 Traceback (most recent call last)",
            "\u001b[0;32m<ipython-input-1-f8be8f2f802e>\u001b[0m in \u001b[0;36m<cell line: 13>\u001b[0;34m()\u001b[0m\n\u001b[1;32m     12\u001b[0m \u001b[0mkWh_list\u001b[0m \u001b[0;34m=\u001b[0m\u001b[0;34m[\u001b[0m\u001b[0;34m]\u001b[0m\u001b[0;34m\u001b[0m\u001b[0;34m\u001b[0m\u001b[0m\n\u001b[1;32m     13\u001b[0m \u001b[0;32mfor\u001b[0m \u001b[0mdeg\u001b[0m \u001b[0;32min\u001b[0m \u001b[0mrange\u001b[0m\u001b[0;34m(\u001b[0m\u001b[0;36m1\u001b[0m\u001b[0;34m,\u001b[0m\u001b[0;36m90\u001b[0m\u001b[0;34m+\u001b[0m\u001b[0;36m1\u001b[0m\u001b[0;34m)\u001b[0m\u001b[0;34m:\u001b[0m\u001b[0;34m\u001b[0m\u001b[0;34m\u001b[0m\u001b[0m\n\u001b[0;32m---> 14\u001b[0;31m   \u001b[0mflux\u001b[0m \u001b[0;34m=\u001b[0m \u001b[0mfind_flux\u001b[0m\u001b[0;34m(\u001b[0m\u001b[0msolpos_20\u001b[0m\u001b[0;34m,\u001b[0m\u001b[0mdeg\u001b[0m\u001b[0;34m,\u001b[0m\u001b[0;36m180\u001b[0m\u001b[0;34m)\u001b[0m\u001b[0;34m\u001b[0m\u001b[0;34m\u001b[0m\u001b[0m\n\u001b[0m\u001b[1;32m     15\u001b[0m   \u001b[0mintegrate_value\u001b[0m \u001b[0;34m=\u001b[0m \u001b[0mintegrate\u001b[0m\u001b[0;34m.\u001b[0m\u001b[0msimps\u001b[0m\u001b[0;34m(\u001b[0m\u001b[0mflux\u001b[0m\u001b[0;34m,\u001b[0m\u001b[0mdx\u001b[0m\u001b[0;34m=\u001b[0m\u001b[0mdx\u001b[0m\u001b[0;34m)\u001b[0m\u001b[0;34m*\u001b[0m\u001b[0mI_peak\u001b[0m\u001b[0;34m*\u001b[0m\u001b[0mA_0\u001b[0m \u001b[0;31m# joules\u001b[0m\u001b[0;34m\u001b[0m\u001b[0;34m\u001b[0m\u001b[0m\n\u001b[1;32m     16\u001b[0m   \u001b[0mintegrate_value\u001b[0m \u001b[0;34m=\u001b[0m \u001b[0mintegrate_value\u001b[0m\u001b[0;34m/\u001b[0m\u001b[0;34m(\u001b[0m\u001b[0;36m3600\u001b[0m \u001b[0;34m*\u001b[0m \u001b[0;36m1000\u001b[0m\u001b[0;34m)\u001b[0m \u001b[0;31m# kWh\u001b[0m\u001b[0;34m\u001b[0m\u001b[0;34m\u001b[0m\u001b[0m\n",
            "\u001b[0;31mNameError\u001b[0m: name 'find_flux' is not defined"
          ]
        }
      ]
    },
    {
      "cell_type": "code",
      "execution_count": null,
      "metadata": {
        "colab": {
          "base_uri": "https://localhost:8080/",
          "height": 1000
        },
        "id": "pyNeYszbo8k6",
        "outputId": "351db447-1f41-45a0-d182-fabc58852889"
      },
      "outputs": [
        {
          "output_type": "stream",
          "name": "stdout",
          "text": [
            "kWh produceret ved 1°: 0.72\n",
            "kWh produceret ved 2°: 0.73\n",
            "kWh produceret ved 3°: 0.74\n",
            "kWh produceret ved 4°: 0.75\n",
            "kWh produceret ved 5°: 0.75\n",
            "kWh produceret ved 6°: 0.76\n",
            "kWh produceret ved 7°: 0.77\n",
            "kWh produceret ved 8°: 0.78\n",
            "kWh produceret ved 9°: 0.78\n",
            "kWh produceret ved 10°: 0.79\n",
            "kWh produceret ved 11°: 0.8\n",
            "kWh produceret ved 12°: 0.8\n",
            "kWh produceret ved 13°: 0.81\n",
            "kWh produceret ved 14°: 0.81\n",
            "kWh produceret ved 15°: 0.82\n",
            "kWh produceret ved 16°: 0.82\n",
            "kWh produceret ved 17°: 0.83\n",
            "kWh produceret ved 18°: 0.83\n",
            "kWh produceret ved 19°: 0.84\n",
            "kWh produceret ved 20°: 0.84\n",
            "kWh produceret ved 21°: 0.85\n",
            "kWh produceret ved 22°: 0.85\n",
            "kWh produceret ved 23°: 0.85\n",
            "kWh produceret ved 24°: 0.86\n",
            "kWh produceret ved 25°: 0.86\n",
            "kWh produceret ved 26°: 0.86\n",
            "kWh produceret ved 27°: 0.87\n",
            "kWh produceret ved 28°: 0.87\n",
            "kWh produceret ved 29°: 0.87\n",
            "kWh produceret ved 30°: 0.87\n",
            "kWh produceret ved 31°: 0.87\n",
            "kWh produceret ved 32°: 0.87\n",
            "kWh produceret ved 33°: 0.88\n",
            "kWh produceret ved 34°: 0.88\n",
            "kWh produceret ved 35°: 0.88\n",
            "kWh produceret ved 36°: 0.88\n",
            "kWh produceret ved 37°: 0.88\n",
            "kWh produceret ved 38°: 0.88\n",
            "kWh produceret ved 39°: 0.88\n",
            "kWh produceret ved 40°: 0.88\n",
            "kWh produceret ved 41°: 0.88\n",
            "kWh produceret ved 42°: 0.87\n",
            "kWh produceret ved 43°: 0.87\n",
            "kWh produceret ved 44°: 0.87\n",
            "kWh produceret ved 45°: 0.87\n",
            "kWh produceret ved 46°: 0.87\n",
            "kWh produceret ved 47°: 0.86\n",
            "kWh produceret ved 48°: 0.86\n",
            "kWh produceret ved 49°: 0.86\n",
            "kWh produceret ved 50°: 0.86\n",
            "kWh produceret ved 51°: 0.85\n",
            "kWh produceret ved 52°: 0.85\n",
            "kWh produceret ved 53°: 0.84\n",
            "kWh produceret ved 54°: 0.84\n",
            "kWh produceret ved 55°: 0.84\n",
            "kWh produceret ved 56°: 0.83\n",
            "kWh produceret ved 57°: 0.83\n",
            "kWh produceret ved 58°: 0.82\n",
            "kWh produceret ved 59°: 0.82\n",
            "kWh produceret ved 60°: 0.81\n",
            "kWh produceret ved 61°: 0.8\n",
            "kWh produceret ved 62°: 0.8\n",
            "kWh produceret ved 63°: 0.79\n",
            "kWh produceret ved 64°: 0.79\n",
            "kWh produceret ved 65°: 0.78\n",
            "kWh produceret ved 66°: 0.77\n",
            "kWh produceret ved 67°: 0.76\n",
            "kWh produceret ved 68°: 0.76\n",
            "kWh produceret ved 69°: 0.75\n",
            "kWh produceret ved 70°: 0.74\n",
            "kWh produceret ved 71°: 0.73\n",
            "kWh produceret ved 72°: 0.72\n",
            "kWh produceret ved 73°: 0.72\n",
            "kWh produceret ved 74°: 0.71\n",
            "kWh produceret ved 75°: 0.7\n",
            "kWh produceret ved 76°: 0.69\n",
            "kWh produceret ved 77°: 0.68\n",
            "kWh produceret ved 78°: 0.67\n",
            "kWh produceret ved 79°: 0.66\n",
            "kWh produceret ved 80°: 0.65\n",
            "kWh produceret ved 81°: 0.64\n",
            "kWh produceret ved 82°: 0.63\n",
            "kWh produceret ved 83°: 0.62\n",
            "kWh produceret ved 84°: 0.61\n",
            "kWh produceret ved 85°: 0.6\n",
            "kWh produceret ved 86°: 0.59\n",
            "kWh produceret ved 87°: 0.58\n",
            "kWh produceret ved 88°: 0.56\n",
            "kWh produceret ved 89°: 0.55\n",
            "kWh produceret ved 90°: 0.54\n"
          ]
        },
        {
          "output_type": "display_data",
          "data": {
            "text/plain": [
              "<Figure size 640x480 with 1 Axes>"
            ],
            "image/png": "[encoded data removed]"
          },
          "metadata": {}
        }
      ],
      "source": [
        "from scipy import integrate\n",
        "A_0 = 0.5\n",
        "S_0 = 1.1\n",
        "Wp = 400 #Vores panel der giver 400W\n",
        "LB = 1.89*1.046 # 12 paneler med disse dimensioner\n",
        "dx = 60\n",
        "deg_list =[]\n",
        "kWh_list =[]\n",
        "for deg in range(1,91):\n",
        "  flux = find_flux(solpos_20,deg,180)\n",
        "  integrate_value = integrate.simps(flux,dx=dx)*A_0*S_0*Wp/LB/1000/3600\n",
        "  print(f\"kWh produceret ved {deg}°: {round(integrate_value,2)}\")\n",
        "  deg_list.append(deg)\n",
        "  kWh_list.append(integrate_value)\n",
        "\n",
        "\n",
        "#plot\n",
        "plt.plot(deg_list, kWh_list, marker='o', linestyle='-')\n",
        "\n",
        "# Adding labels and title\n",
        "plt.xlabel('Theta_panel')\n",
        "plt.ylabel('Daily Energy Production 4/20')\n",
        "plt.title('Energy Production by angle')\n",
        "\n",
        "# Display the plot\n",
        "plt.grid(True)\n",
        "plt.show()"
      ]
    },
    {
      "cell_type": "markdown",
      "metadata": {
        "id": "v2IsiZeDRDMu"
      },
      "source": [
        "# 24."
      ]
    },
    {
      "cell_type": "code",
      "execution_count": null,
      "metadata": {
        "colab": {
          "base_uri": "https://localhost:8080/"
        },
        "id": "5ytW6NGhviHr",
        "outputId": "c2f199a0-0928-4c61-a590-ded013eed0ce"
      },
      "outputs": [
        {
          "output_type": "stream",
          "name": "stdout",
          "text": [
            "{25: 257.58, 26: 259.63, 27: 261.61, 28: 263.51, 29: 265.35, 30: 267.11, 31: 268.82, 32: 270.45, 33: 272.01, 34: 273.48, 35: 274.87, 36: 276.17, 37: 277.4, 38: 278.53, 39: 279.59, 40: 280.56, 41: 281.44, 42: 282.24, 43: 282.96, 44: 283.6, 45: 284.15, 46: 284.62, 47: 285.01, 48: 285.32, 49: 285.54, 50: 285.68, 51: 285.74, 52: 285.73, 53: 285.63, 54: 285.45, 55: 285.17, 56: 284.81, 57: 284.37, 58: 283.84, 59: 283.22}\n"
          ]
        }
      ],
      "source": [
        "# Helårs data\n",
        "\n",
        "start_dato_år = \"2024-01-01\"\n",
        "slut_dato_år = \"2024-12-31\"\n",
        "\n",
        "time_år = pd.date_range(\n",
        "    start_dato_år + \" 00:00:00\", slut_dato_år + \" 23:59:59\", inclusive=\"left\", freq=\"H\", tz=\"Europe/Copenhagen\"\n",
        ")\n",
        "solpos_år = location.get_solarposition(time_år)\n",
        "\n",
        "def find_flux_pr_asi_år():\n",
        "    deg_flux_dict = {}\n",
        "    dx = 3600\n",
        "    for deg in range(25, 60):\n",
        "        flux_2024 = find_flux(solpos_år, deg, 180)\n",
        "        integrate_value = integrate.simps(flux_2024,dx=dx)*A_0*S_0*Wp/LB/1000/3600\n",
        "        deg_flux_dict[deg] = round(integrate_value,2)\n",
        "    return deg_flux_dict\n",
        "\n",
        "print(find_flux_pr_asi_år())"
      ]
    },
    {
      "cell_type": "markdown",
      "metadata": {
        "id": "9YO2WOXjRDOy"
      },
      "source": [
        "# 25."
      ]
    },
    {
      "cell_type": "code",
      "execution_count": null,
      "metadata": {
        "colab": {
          "base_uri": "https://localhost:8080/",
          "height": 529
        },
        "id": "XnTawNgSylna",
        "outputId": "4e8fb33e-3f62-4264-d658-f26437d453ff"
      },
      "outputs": [
        {
          "output_type": "stream",
          "name": "stdout",
          "text": [
            "[135, 136, 137, 138, 139, 140, 141, 142, 143, 144, 145, 146, 147, 148, 149, 150, 151, 152, 153, 154, 155, 156, 157, 158, 159, 160, 161, 162, 163, 164, 165, 166, 167, 168, 169, 170, 171, 172, 173, 174, 175, 176, 177, 178, 179, 180, 181, 182, 183, 184, 185, 186, 187, 188, 189, 190, 191, 192, 193, 194, 195, 196, 197, 198, 199, 200, 201, 202, 203, 204, 205, 206, 207, 208, 209, 210, 211, 212, 213, 214, 215, 216, 217, 218, 219, 220, 221, 222, 223, 224] [261.47, 262.59, 263.68, 264.73, 265.75, 266.73, 267.67, 268.58, 269.45, 270.31, 271.13, 271.91, 272.66, 273.36, 274.01, 274.61, 275.15, 275.67, 276.19, 276.69, 277.19, 277.76, 278.36, 278.92, 279.5, 280.07, 280.66, 281.28, 281.89, 282.46, 282.98, 283.45, 283.86, 284.22, 284.53, 284.79, 284.99, 285.14, 285.26, 285.35, 285.42, 285.49, 285.55, 285.63, 285.69, 285.74, 285.78, 285.76, 285.69, 285.57, 285.4, 285.17, 284.89, 284.56, 284.18, 283.74, 283.25, 282.74, 282.26, 281.79, 281.33, 280.93, 280.51, 280.13, 279.77, 279.44, 279.14, 278.79, 278.39, 277.94, 277.44, 276.88, 276.28, 275.62, 274.92, 274.18, 273.44, 272.67, 271.88, 271.05, 270.17, 269.25, 268.29, 267.3, 266.34, 265.35, 264.34, 263.28, 262.2, 261.09]\n",
            "181 285.78\n"
          ]
        },
        {
          "output_type": "display_data",
          "data": {
            "text/plain": [
              "<Figure size 640x480 with 1 Axes>"
            ],
            "image/png": "[encoded data removed]"
          },
          "metadata": {}
        }
      ],
      "source": [
        "def find_flux_pr_asimut_år(asi):\n",
        "    asi_flux_dict = {}\n",
        "    dx = 3600\n",
        "    deg = 51\n",
        "    prodoction =()\n",
        "    flux_2024 = find_flux(solpos_år, deg, asi)\n",
        "    production = round(integrate.simps(flux_2024,dx=dx)*A_0*S_0*Wp/LB/1000/3600,2)\n",
        "    return asi,production\n",
        "\n",
        "asi = []\n",
        "production = []\n",
        "\n",
        "for i in (range(135,225)):\n",
        "    a,p = find_flux_pr_asimut_år(i)\n",
        "    asi.append(a)\n",
        "    production.append(p)\n",
        "\n",
        "print(asi,production)\n",
        "print(asi[np.argmax(production)],max(production))\n",
        "\n",
        "# Plot\n",
        "plt.plot(asi, production, marker='o', linestyle='-')\n",
        "plt.plot(181, max(production), marker='o', color='red', label='Maximum at 181')\n",
        "\n",
        "# Adding labels and title\n",
        "plt.xlabel('Azimuth')\n",
        "plt.ylabel('Yearly Energy Production')\n",
        "plt.title('Energy Production by Angle')\n",
        "\n",
        "# Display the plot\n",
        "plt.legend()\n",
        "plt.grid(True)\n",
        "plt.show()"
      ]
    },
    {
      "cell_type": "markdown",
      "metadata": {
        "id": "DUFWQ7EPRDRA"
      },
      "source": [
        "# 26."
      ]
    },
    {
      "cell_type": "code",
      "execution_count": null,
      "metadata": {
        "colab": {
          "base_uri": "https://localhost:8080/",
          "height": 443
        },
        "id": "repTfWoGImxr",
        "outputId": "069cfe85-33c8-407e-d18f-47c51444ad61"
      },
      "outputs": [
        {
          "output_type": "error",
          "ename": "NameError",
          "evalue": "name 'l_panel' is not defined",
          "traceback": [
            "\u001b[0;31m---------------------------------------------------------------------------\u001b[0m",
            "\u001b[0;31mNameError\u001b[0m                                 Traceback (most recent call last)",
            "\u001b[0;32m<ipython-input-24-4f95e46b62bd>\u001b[0m in \u001b[0;36m<cell line: 41>\u001b[0;34m()\u001b[0m\n\u001b[1;32m     39\u001b[0m     \u001b[0;32mreturn\u001b[0m \u001b[0mDaily_kWh_dict\u001b[0m\u001b[0;34m,\u001b[0m \u001b[0mtotal_energy\u001b[0m\u001b[0;34m,\u001b[0m \u001b[0mmax_energy\u001b[0m\u001b[0;34m,\u001b[0m \u001b[0mdaily_energy\u001b[0m\u001b[0;34m,\u001b[0m\u001b[0mn\u001b[0m\u001b[0;34m\u001b[0m\u001b[0;34m\u001b[0m\u001b[0m\n\u001b[1;32m     40\u001b[0m \u001b[0;34m\u001b[0m\u001b[0m\n\u001b[0;32m---> 41\u001b[0;31m \u001b[0mDaily_kWh_dict\u001b[0m\u001b[0;34m,\u001b[0m \u001b[0mtotal_energy\u001b[0m\u001b[0;34m,\u001b[0m \u001b[0mmax_energy\u001b[0m\u001b[0;34m,\u001b[0m \u001b[0mdaily_energy\u001b[0m\u001b[0;34m,\u001b[0m\u001b[0mn\u001b[0m \u001b[0;34m=\u001b[0m \u001b[0mfind_kWh_hourly\u001b[0m\u001b[0;34m(\u001b[0m\u001b[0;36m51\u001b[0m\u001b[0;34m,\u001b[0m\u001b[0;36m180\u001b[0m\u001b[0;34m,\u001b[0m\u001b[0;36m12\u001b[0m\u001b[0;34m,\u001b[0m\u001b[0;36m4.5\u001b[0m\u001b[0;34m,\u001b[0m\u001b[0mlocation\u001b[0m\u001b[0;34m)\u001b[0m\u001b[0;34m\u001b[0m\u001b[0;34m\u001b[0m\u001b[0m\n\u001b[0m\u001b[1;32m     42\u001b[0m \u001b[0mprint\u001b[0m\u001b[0;34m(\u001b[0m\u001b[0;34m\"Hourly power generated for each hour:\"\u001b[0m\u001b[0;34m,\u001b[0m \u001b[0mDaily_kWh_dict\u001b[0m\u001b[0;34m)\u001b[0m\u001b[0;34m\u001b[0m\u001b[0;34m\u001b[0m\u001b[0m\n\u001b[1;32m     43\u001b[0m \u001b[0mprint\u001b[0m\u001b[0;34m(\u001b[0m\u001b[0;34m\"Total energy generated for the year:\"\u001b[0m\u001b[0;34m,\u001b[0m \u001b[0mtotal_energy\u001b[0m\u001b[0;34m)\u001b[0m\u001b[0;34m\u001b[0m\u001b[0;34m\u001b[0m\u001b[0m\n",
            "\u001b[0;32m<ipython-input-24-4f95e46b62bd>\u001b[0m in \u001b[0;36mfind_kWh_hourly\u001b[0;34m(asi, zenit, len, bred, location)\u001b[0m\n\u001b[1;32m      6\u001b[0m \u001b[0;34m\u001b[0m\u001b[0m\n\u001b[1;32m      7\u001b[0m     \u001b[0;31m#calculate how many panels\u001b[0m\u001b[0;34m\u001b[0m\u001b[0;34m\u001b[0m\u001b[0m\n\u001b[0;32m----> 8\u001b[0;31m     \u001b[0mn_l\u001b[0m \u001b[0;34m=\u001b[0m \u001b[0;34m(\u001b[0m\u001b[0mlen\u001b[0m\u001b[0;34m-\u001b[0m\u001b[0;36m1\u001b[0m\u001b[0;34m)\u001b[0m\u001b[0;34m//\u001b[0m\u001b[0ml_panel\u001b[0m\u001b[0;34m\u001b[0m\u001b[0;34m\u001b[0m\u001b[0m\n\u001b[0m\u001b[1;32m      9\u001b[0m     \u001b[0mn_b\u001b[0m \u001b[0;34m=\u001b[0m \u001b[0;34m(\u001b[0m\u001b[0mbred\u001b[0m\u001b[0;34m-\u001b[0m\u001b[0;36m0.6\u001b[0m\u001b[0;34m)\u001b[0m\u001b[0;34m//\u001b[0m\u001b[0mh_panel\u001b[0m\u001b[0;34m\u001b[0m\u001b[0;34m\u001b[0m\u001b[0m\n\u001b[1;32m     10\u001b[0m     \u001b[0mn\u001b[0m \u001b[0;34m=\u001b[0m \u001b[0mn_l\u001b[0m\u001b[0;34m*\u001b[0m\u001b[0mn_b\u001b[0m\u001b[0;34m\u001b[0m\u001b[0;34m\u001b[0m\u001b[0m\n",
            "\u001b[0;31mNameError\u001b[0m: name 'l_panel' is not defined"
          ]
        }
      ],
      "source": [
        "\n",
        "start_date_year = \"2024-01-01\"\n",
        "end_date_year = \"2024-12-31\"\n",
        "\n",
        "# Function to calculate hourly power generated\n",
        "def find_kWh_hourly(asi,zenit,len,bred,location):\n",
        "\n",
        "    #calculate how many panels\n",
        "    n_l = (len-1)//l_panel\n",
        "    n_b = (bred-0.6)//h_panel\n",
        "    n = n_l*n_b\n",
        "\n",
        "    daily_energy = []\n",
        "    Daily_kWh_dict = {}  # Dictionary to store hourly power generated\n",
        "    dx = 60  # Integration step size in seconds (one minute)\n",
        "    for single_date in pd.date_range(start=start_date_year, end=end_date_year, freq=\"D\", tz=\"Europe/Copenhagen\"): # går igennem individuelle dage og deler op i timer\n",
        "        start_time = single_date.strftime(\"%Y-%m-%d\") + \" 00:00:00\"\n",
        "        end_time = single_date.strftime(\"%Y-%m-%d\") + \" 23:59:59\"\n",
        "\n",
        "        # Generate time range for the hour\n",
        "        time_hour = pd.date_range(start=start_time, end=end_time, freq=\"Min\", tz=\"Europe/Copenhagen\", ambiguous=\"NaT\") # laver en range med minutter for hver dag\n",
        "\n",
        "        # Get solar position for the hour\n",
        "        solpos_hour = location.get_solarposition(time_hour) # henter data for solens position for hvert minut\n",
        "\n",
        "        # Calculate flux for the hour\n",
        "        flux_hour = find_flux(solpos_hour, asi, zenit) #finder fluxen for hvert minut\n",
        "\n",
        "        # Integrate to find total energy for the day\n",
        "        integrate_value = integrate.simps(flux_hour, dx=dx)*A_0*S_0*Wp/LB*n/1000/3600  # Converter Ws/m^2 til kWh\n",
        "\n",
        "        # Store total energy in daily_flux_dict\n",
        "        Daily_kWh_dict[single_date.strftime(\"%Y-%m-%d\")] = integrate_value # smækker det i et dictionary\n",
        "\n",
        "\n",
        "    total_energy = sum(Daily_kWh_dict.values())  # Calculate total energy generated\n",
        "    max_energy = max(Daily_kWh_dict.values())  # Find maximum hourly energy generated\n",
        "    daily_energy=Daily_kWh_dict.values()\n",
        "\n",
        "    return Daily_kWh_dict, total_energy, max_energy, daily_energy,n\n",
        "\n",
        "Daily_kWh_dict, total_energy, max_energy, daily_energy,n = find_kWh_hourly(51,180,12,4.5,location)\n",
        "print(\"Hourly power generated for each hour:\", Daily_kWh_dict)\n",
        "print(\"Total energy generated for the year:\", total_energy)\n",
        "print(\"Maximum daily energy generated:\", max_energy)\n",
        "print(\"Antal paneler der kan installeres:\",n)\n",
        "\n",
        "#plot\n",
        "days = pd.date_range(start=start_date_year, end=end_date_year, freq=\"D\", tz=\"Europe/Copenhagen\")\n",
        "plt.plot(days, daily_energy, marker='o', linestyle='-')\n",
        "\n",
        "# Adding labels and title\n",
        "plt.xlabel('Days')\n",
        "plt.ylabel('Energy Production')\n",
        "plt.title('Daily Energy Production')\n",
        "\n",
        "# Display the plot\n",
        "plt.grid(True)\n",
        "plt.show()\n"
      ]
    },
    {
      "cell_type": "markdown",
      "metadata": {
        "id": "0HSL2KE6oShF"
      },
      "source": [
        "## Udvidelse"
      ]
    },
    {
      "cell_type": "code",
      "execution_count": null,
      "metadata": {
        "id": "RtOwAjE2oVke"
      },
      "outputs": [],
      "source": [
        "import pandas as pd\n",
        "import numpy as np\n",
        "df = pd.read_excel(\"elpris.xlsx\")\n",
        "kwh_d = 5000/365\n",
        "sommer_d = kwh_d*0.85\n",
        "vinter_d = kwh_d*1.15\n",
        "# Hvor relativt meget man bruger energi på tidspunkt af døgnet\n",
        "timer = np.array([1,1,1,1,1,1.5,2,1.5,1.5,1.5,1.5,1.5,1.5,1.5,4,2,2,2,1.5,1,5,1,1,1])\n",
        "# Spreder en sommerdags produktion ud på timerne\n",
        "\n",
        "sommer_timer = timer*sommer_d/sum(timer)\n",
        "vinter_timer = timer*vinter_d/sum(timer)\n",
        "\n",
        "april = 2186 # 1. april = 2186\n",
        "oktober = 6578 # 1. oktober = 6578\n",
        "df_sommer = df.iloc[april:oktober] #Sommer dataframe\n",
        "df_vinter = pd.concat([df.iloc[:april],df.iloc[oktober:]]) #Vinter dataframe\n",
        "\n",
        "num_days_sommer = len(df_sommer) // 24\n",
        "num_days_vinter = len(df_vinter) // 24\n",
        "\n",
        "# Gentag tiderne for hver sommerdag\n",
        "sommer_timer_repeated = np.tile(sommer_timer, num_days_sommer)\n",
        "vinter_timer_repeated = np.tile(vinter_timer, num_days_vinter)\n",
        "\n",
        "# Hvor mange penge vi bruger hver time\n",
        "df_sommer['dkk'] = df_sommer['Med moms']/1000 * sommer_timer_repeated #omregner 'med moms' fra dkk/MWh til dkk/kWh og sommer_timer_repeated er i kWh\n",
        "df_vinter['dkk'] = df_vinter['Med moms']/1000 * vinter_timer_repeated"
      ]
    },
    {
      "cell_type": "code",
      "execution_count": null,
      "metadata": {
        "id": "mBIhxERGo-9X"
      },
      "outputs": [],
      "source": [
        "start_dato_år = \"2020-01-01\"\n",
        "slut_dato_år = \"2020-12-31\"\n",
        "\n",
        "time_år = pd.date_range(\n",
        "    start_dato_år + \" 00:00:00\", slut_dato_år + \" 23:59:59\", freq=\"H\", inclusive=\"left\", tz=\"Europe/Copenhagen\"\n",
        ")\n",
        "lat = 55.786256\n",
        "lon = 12.523167\n",
        "time = \"Europe/Copenhagen\"\n",
        "alt = 40\n",
        "location = pvlib.location.Location(lat,lon,time,alt,\"DTU-101\")\n",
        "solpos_år = location.get_solarposition(time_år)\n",
        "\n",
        "def find_flux(solpos,theta_p,phi_p):\n",
        "  flux_list = []\n",
        "  z,a = solpos[\"apparent_zenith\"],solpos[\"azimuth\"]\n",
        "  if z > 90:\n",
        "    flux_list.append(0)\n",
        "  else:\n",
        "    flux_list.append(solar_panel_projection(np.deg2rad(z),np.deg2rad(a),np.deg2rad(theta_p),np.deg2rad(phi_p)))\n",
        "  return flux_list"
      ]
    },
    {
      "cell_type": "code",
      "execution_count": null,
      "metadata": {
        "id": "IYHEyzCxpDdr"
      },
      "outputs": [],
      "source": [
        "#Tilføjer zenith og azimuth til hver time hver dag\n",
        "df_sommer[\"apparent_zenith\"] = solpos_år[\"apparent_zenith\"].iloc[april:oktober].values\n",
        "df_sommer[\"azimuth\"] = solpos_år[\"azimuth\"].iloc[april:oktober].values\n",
        "df_vinter[\"apparent_zenith\"] = solpos_år.iloc[:7824].drop(solpos_år.index[april:oktober])[\"apparent_zenith\"].values\n",
        "df_vinter[\"azimuth\"] = solpos_år.iloc[:7824].drop(solpos_år.index[april:oktober])[\"azimuth\"].values"
      ]
    },
    {
      "cell_type": "code",
      "execution_count": null,
      "metadata": {
        "id": "guqbMinupSjV"
      },
      "outputs": [],
      "source": [
        "theta_range = range(25, 65, 2)\n",
        "phi_range = range(130, 230, 5)\n",
        "A_0 = 0.5\n",
        "S_0 = 1.1\n",
        "W = 400 #Vores panel der giver 400W\n",
        "panel = 1.89*1.046 # paneler med disse dimensioner\n",
        "\n",
        "df_generated = pd.DataFrame()\n",
        "\n",
        "# find flux for hver række og vinkel\n",
        "def compute_flux(row):\n",
        "    results = {}\n",
        "    for theta in theta_range:\n",
        "        for phi in phi_range:\n",
        "            name = f\"t-{theta} p-{phi}\"\n",
        "            flux = find_flux(row, theta, phi)[0] # Hvor ortogonal er solens stråler på panelet\n",
        "            flux = flux* S_0*A_0*W*12/panel/1000 # Gang med panelets effekt og konstanterne og ændre til kWh\n",
        "            results[name] = flux\n",
        "    return pd.Series(results)\n",
        "\n",
        "df_total = pd.concat([df_sommer,df_vinter])\n",
        "df_total.reset_index(inplace=True, drop=True) # Reset index til kronologisk rækkefølge\n",
        "df_generated = df_total.apply(compute_flux, axis=1) # Hvor mange kWh producerer vores paneler\n",
        "\n",
        "# Hvor mange penge vi sparer/tjener ud fra vores eget forbrug\n",
        "df_generated = df_generated.mul(df_total[\"Med moms\"]/1000, axis=0) # med moms er i dkk/MWh\n",
        "\n",
        "# Laver en række med totale pris vores strøm er værd\n",
        "df_generated.loc[\"Total\"] = df_generated.sum()"
      ]
    },
    {
      "cell_type": "code",
      "execution_count": null,
      "metadata": {
        "id": "zdZwI5FlrEGA"
      },
      "outputs": [],
      "source": [
        "print(f\"Den opsætning med den største pris: {df_generated.loc['Total'].idxmax()}\")\n",
        "print(f\"Penge vi bruger på et år: {round(df_total['dkk'].sum(),2)}DKK\")\n",
        "print(f\"Penge vi har sparer: {round(df_generated.loc['Total'].max(),2)}DKK\")"
      ]
    },
    {
      "cell_type": "markdown",
      "source": [
        "**Endelig funktion**"
      ],
      "metadata": {
        "id": "Z1JId8s1jvkb"
      }
    },
    {
      "cell_type": "code",
      "source": [
        "# 15\n",
        "import pandas as pd\n",
        "import pvlib\n",
        "from pvlib.location import Location\n",
        "import numpy as np\n",
        "import sympy as sym\n",
        "import matplotlib.pyplot as plt\n",
        "import matplotlib.dates as mdates\n",
        "from scipy import integrate\n",
        "\n",
        "A_0 = 0.5\n",
        "S_0 = 1.1\n",
        "Wp = 400 #Vores panel der giver 400W\n",
        "LB = 1.046*1.890 #Længde bredde\n",
        "h_panel = 1.890\n",
        "l_panel = 1.046\n",
        "\n",
        "# Byg 101 koordinater\n",
        "lat = 55.786256\n",
        "lon = 12.523167\n",
        "time = \"Europe/Copenhagen\"\n",
        "alt = 40\n",
        "location = pvlib.location.Location(lat,lon,time,alt,\"DTU-101\")\n",
        "\n",
        "\n",
        "def np_dot(v1, v2):\n",
        "    return np.sum(v1 * v2, axis=0)\n",
        "\n",
        "def solar_panel_projection(theta_sol, phi_sol, theta_panel, phi_panel):\n",
        "    #r_s = 149.60 * 10**6 # radius (afstand fra jorden til solen)\n",
        "    r_s = 1\n",
        "\n",
        "    # Enhedsnormalvektor, sol\n",
        "    u_s = np.array([\n",
        "        r_s * np.sin(theta_sol) * np.cos(phi_sol),\n",
        "        r_s * np.sin(theta_sol) * np.sin(phi_sol),\n",
        "        r_s * np.cos(theta_sol)\n",
        "    ])\n",
        "\n",
        "    # Enhedsnormalvektor, panel\n",
        "    u_p = np.array([\n",
        "        np.sin(theta_panel) * np.cos(phi_panel),\n",
        "        np.sin(theta_panel) * np.sin(phi_panel),\n",
        "        np.cos(theta_panel)\n",
        "    ])\n",
        "\n",
        "    return np.maximum(0, np_dot(u_s, u_p))\n",
        "\n",
        "\n",
        "def find_flux(solpos,theta_p,phi_p):\n",
        "  flux_list = []\n",
        "  for z,a in zip(solpos[\"zenith\"],solpos[\"azimuth\"]):\n",
        "    if z > 90:\n",
        "      flux_list.append(0)\n",
        "    else:\n",
        "      flux_list.append(solar_panel_projection(np.deg2rad(z),np.deg2rad(a),np.deg2rad(theta_p),np.deg2rad(phi_p)))\n",
        "  return flux_list\n",
        "\n",
        "\n",
        "\n",
        "start_date_year = \"2024-01-01\"\n",
        "end_date_year = \"2024-12-31\"\n",
        "\n",
        "# Function to calculate hourly power generated\n",
        "def find_kWh_hourly(asi,zenit,len,bred,location):\n",
        "\n",
        "    #calculate how many panels\n",
        "    n_l = (len-1)//l_panel\n",
        "    n_b = (bred-0.6)//h_panel\n",
        "    n = n_l*n_b\n",
        "\n",
        "    daily_energy = []\n",
        "    Daily_kWh_dict = {}  # Dictionary to store hourly power generated\n",
        "    dx = 60  # Integration step size in seconds (one minute)\n",
        "    for single_date in pd.date_range(start=start_date_year, end=end_date_year, freq=\"D\", tz=\"Europe/Copenhagen\"): # går igennem individuelle dage og deler op i timer\n",
        "        start_time = single_date.strftime(\"%Y-%m-%d\") + \" 00:00:00\"\n",
        "        end_time = single_date.strftime(\"%Y-%m-%d\") + \" 23:59:59\"\n",
        "\n",
        "        # Generate time range for the hour\n",
        "        time_hour = pd.date_range(start=start_time, end=end_time, freq=\"Min\", tz=\"Europe/Copenhagen\", ambiguous=\"NaT\") # laver en range med minutter for hver dag\n",
        "\n",
        "        # Get solar position for the hour\n",
        "        solpos_hour = location.get_solarposition(time_hour) # henter data for solens position for hvert minut\n",
        "\n",
        "        # Calculate flux for the hour\n",
        "        flux_hour = find_flux(solpos_hour, asi, zenit) #finder fluxen for hvert minut\n",
        "\n",
        "        # Integrate to find total energy for the day\n",
        "        integrate_value = integrate.simps(flux_hour, dx=dx)*A_0*S_0*Wp/LB*n/1000/3600  # Converter Ws/m^2 til kWh\n",
        "\n",
        "        # Store total energy in daily_flux_dict\n",
        "        Daily_kWh_dict[single_date.strftime(\"%Y-%m-%d %H:%M:%S\")] = integrate_value # smækker det i et dictionary\n",
        "\n",
        "\n",
        "    total_energy = sum(Daily_kWh_dict.values())  # Calculate total energy generated\n",
        "    max_energy = max(Daily_kWh_dict.values())  # Find maximum hourly energy generated\n",
        "    daily_energy=Daily_kWh_dict.values()\n",
        "\n",
        "    return Daily_kWh_dict, total_energy, max_energy, daily_energy,n\n",
        "\n",
        "\n",
        "#finder de vinkler der giver optimal total produktion\n",
        "total_energy_list=[]\n",
        "\n",
        "for i in range(30,60):\n",
        "  for j in range(140,220):\n",
        "      Daily_kWh_dict, total_energy, max_energy, daily_energy,n = find_kWh_hourly(i,j,12,4.5,location)\n",
        "      total_energy_list.append(total_energy)\n",
        "      if total_energy == max(total_energy_list):\n",
        "        j_opt,i_opt = j,i\n",
        "\n",
        "Daily_kWh_dict, total_energy, max_energy, daily_energy,n = find_kWh_hourly(i_opt,j_opt,12,4.5,location)\n",
        "\n",
        "print(\"Hourly power generated for each hour:\", Daily_kWh_dict)\n",
        "print(\"Total energy generated for the year:\", total_energy)\n",
        "print(\"Maximum daily energy generated:\", max_energy)\n",
        "print(\"Antal paneler der kan installeres:\",n)\n",
        "print(f\"Den optimale instalation har azumithvinkel: {i_opt} og zenithvinkel: {j_opt}\")\n",
        "\n",
        "#plot\n",
        "days = pd.date_range(start=start_date_year, end=end_date_year, freq=\"D\", tz=\"Europe/Copenhagen\")\n",
        "plt.plot(days, daily_energy, marker='o', linestyle='-')\n",
        "\n",
        "# Adding labels and title\n",
        "plt.xlabel('Days')\n",
        "plt.ylabel('Energy Production')\n",
        "plt.title('Daily Energy Production')\n",
        "\n",
        "# Display the plot\n",
        "plt.grid(True)\n",
        "plt.show()\n"
      ],
      "metadata": {
        "id": "szuIcZDkjrD_"
      },
      "execution_count": null,
      "outputs": []
    }
  ],
  "metadata": {
    "colab": {
      "provenance": []
    },
    "kernelspec": {
      "display_name": "Python 3",
      "name": "python3"
    },
    "language_info": {
      "name": "python"
    }
  },
  "nbformat": 4,
  "nbformat_minor": 0
}